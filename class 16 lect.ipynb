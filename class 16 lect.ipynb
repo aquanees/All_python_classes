{
 "cells": [
  {
   "cell_type": "code",
   "execution_count": 12,
   "id": "df276080",
   "metadata": {},
   "outputs": [],
   "source": [
    "with open(\"file_handling.txt\", 'w') as file:\n",
    "    file.write('hellow, we are learning file handling')"
   ]
  },
  {
   "cell_type": "code",
   "execution_count": 13,
   "id": "734d4852",
   "metadata": {},
   "outputs": [],
   "source": [
    "with open(\"file_handling.txt\", 'a') as file:\n",
    "    file.write('\\n  file handling with append mode')\n",
    "    \n",
    "    "
   ]
  },
  {
   "cell_type": "code",
   "execution_count": 14,
   "id": "3a59c969",
   "metadata": {},
   "outputs": [
    {
     "name": "stdout",
     "output_type": "stream",
     "text": [
      "hellow, we are learning file handling\n",
      "  file handling with append mode\n"
     ]
    }
   ],
   "source": [
    "with open(\"file_handling.txt\", 'r') as file:\n",
    "    file_content = file.read()\n",
    "    print(file_content)"
   ]
  },
  {
   "cell_type": "code",
   "execution_count": 15,
   "id": "163193fa",
   "metadata": {},
   "outputs": [],
   "source": [
    "file = open ('whatever.txt', 'w')"
   ]
  },
  {
   "cell_type": "code",
   "execution_count": 16,
   "id": "3efe6d23",
   "metadata": {},
   "outputs": [],
   "source": [
    "file.write(\"should write\")\n",
    "file.close()"
   ]
  },
  {
   "cell_type": "code",
   "execution_count": 19,
   "id": "33e07fcb",
   "metadata": {},
   "outputs": [],
   "source": [
    "greeting = \"welcome to saylani class\"\n",
    "with open(\"file_greeting.txt\", 'w') as file:\n",
    "    file.write(greeting)"
   ]
  },
  {
   "cell_type": "code",
   "execution_count": 24,
   "id": "cb46a42f",
   "metadata": {},
   "outputs": [],
   "source": [
    "\n",
    "with open('read_write.txt', 'r+') as file:\n",
    "    file.write('writing & reading')"
   ]
  },
  {
   "cell_type": "code",
   "execution_count": 22,
   "id": "5a816738",
   "metadata": {},
   "outputs": [],
   "source": [
    "with open(\"read_write.txt\", 'w') as file:\n",
    "    file.write('write and read')"
   ]
  },
  {
   "cell_type": "code",
   "execution_count": 23,
   "id": "a3ed16f7",
   "metadata": {},
   "outputs": [],
   "source": [
    "with open('read_write.txt', 'r+') as file:\n",
    "    file.write('writing & reading')"
   ]
  },
  {
   "cell_type": "markdown",
   "id": "80e8ba27",
   "metadata": {},
   "source": [
    "# module"
   ]
  },
  {
   "cell_type": "code",
   "execution_count": 32,
   "id": "30093d7a",
   "metadata": {},
   "outputs": [
    {
     "ename": "FileNotFoundError",
     "evalue": "[Errno 2] No such file or directory: 'calculations.pyw'",
     "output_type": "error",
     "traceback": [
      "\u001b[1;31m---------------------------------------------------------------------------\u001b[0m",
      "\u001b[1;31mFileNotFoundError\u001b[0m                         Traceback (most recent call last)",
      "Cell \u001b[1;32mIn[32], line 1\u001b[0m\n\u001b[1;32m----> 1\u001b[0m \u001b[38;5;28;01mwith\u001b[39;00m \u001b[38;5;28mopen\u001b[39m(\u001b[38;5;124m'\u001b[39m\u001b[38;5;124mcalculations.py\u001b[39m\u001b[38;5;124m'\u001b[39m \u001b[38;5;124m'\u001b[39m\u001b[38;5;124mw\u001b[39m\u001b[38;5;124m'\u001b[39m) \u001b[38;5;28;01mas\u001b[39;00m file:\n\u001b[0;32m      2\u001b[0m     file\u001b[38;5;241m.\u001b[39mwrite(\u001b[38;5;124m'\u001b[39m\u001b[38;5;124mcalculation.py\u001b[39m\u001b[38;5;124m'\u001b[39m)\n",
      "File \u001b[1;32m~\\anaconda3\\Lib\\site-packages\\IPython\\core\\interactiveshell.py:286\u001b[0m, in \u001b[0;36m_modified_open\u001b[1;34m(file, *args, **kwargs)\u001b[0m\n\u001b[0;32m    279\u001b[0m \u001b[38;5;28;01mif\u001b[39;00m file \u001b[38;5;129;01min\u001b[39;00m {\u001b[38;5;241m0\u001b[39m, \u001b[38;5;241m1\u001b[39m, \u001b[38;5;241m2\u001b[39m}:\n\u001b[0;32m    280\u001b[0m     \u001b[38;5;28;01mraise\u001b[39;00m \u001b[38;5;167;01mValueError\u001b[39;00m(\n\u001b[0;32m    281\u001b[0m         \u001b[38;5;124mf\u001b[39m\u001b[38;5;124m\"\u001b[39m\u001b[38;5;124mIPython won\u001b[39m\u001b[38;5;124m'\u001b[39m\u001b[38;5;124mt let you open fd=\u001b[39m\u001b[38;5;132;01m{\u001b[39;00mfile\u001b[38;5;132;01m}\u001b[39;00m\u001b[38;5;124m by default \u001b[39m\u001b[38;5;124m\"\u001b[39m\n\u001b[0;32m    282\u001b[0m         \u001b[38;5;124m\"\u001b[39m\u001b[38;5;124mas it is likely to crash IPython. If you know what you are doing, \u001b[39m\u001b[38;5;124m\"\u001b[39m\n\u001b[0;32m    283\u001b[0m         \u001b[38;5;124m\"\u001b[39m\u001b[38;5;124myou can use builtins\u001b[39m\u001b[38;5;124m'\u001b[39m\u001b[38;5;124m open.\u001b[39m\u001b[38;5;124m\"\u001b[39m\n\u001b[0;32m    284\u001b[0m     )\n\u001b[1;32m--> 286\u001b[0m \u001b[38;5;28;01mreturn\u001b[39;00m io_open(file, \u001b[38;5;241m*\u001b[39margs, \u001b[38;5;241m*\u001b[39m\u001b[38;5;241m*\u001b[39mkwargs)\n",
      "\u001b[1;31mFileNotFoundError\u001b[0m: [Errno 2] No such file or directory: 'calculations.pyw'"
     ]
    }
   ],
   "source": [
    "with open('calculations.py' 'w') as file:\n",
    "    file.write('calculationpy')"
   ]
  },
  {
   "cell_type": "code",
   "execution_count": 31,
   "id": "3c5185ae",
   "metadata": {},
   "outputs": [
    {
     "ename": "FileNotFoundError",
     "evalue": "[Errno 2] No such file or directory: 'calculations.pyw'",
     "output_type": "error",
     "traceback": [
      "\u001b[1;31m---------------------------------------------------------------------------\u001b[0m",
      "\u001b[1;31mFileNotFoundError\u001b[0m                         Traceback (most recent call last)",
      "Cell \u001b[1;32mIn[31], line 1\u001b[0m\n\u001b[1;32m----> 1\u001b[0m \u001b[38;5;28;01mwith\u001b[39;00m \u001b[38;5;28mopen\u001b[39m(\u001b[38;5;124m'\u001b[39m\u001b[38;5;124mcalculations.py\u001b[39m\u001b[38;5;124m'\u001b[39m \u001b[38;5;124m'\u001b[39m\u001b[38;5;124mw\u001b[39m\u001b[38;5;124m'\u001b[39m) \u001b[38;5;28;01mas\u001b[39;00m file:\n\u001b[0;32m      2\u001b[0m     file\u001b[38;5;241m.\u001b[39mwrite(\u001b[38;5;124m'\u001b[39m\u001b[38;5;124mdef addition(num1, num2):\u001b[39m\u001b[38;5;130;01m\\n\u001b[39;00m\u001b[38;5;124mreturn num1 + num2\u001b[39m\u001b[38;5;130;01m\\n\u001b[39;00m\u001b[38;5;124mdef subract (num1, num2):\u001b[39m\u001b[38;5;130;01m\\n\u001b[39;00m\u001b[38;5;124mreturn num1 - num2\u001b[39m\u001b[38;5;124m'\u001b[39m)\n",
      "File \u001b[1;32m~\\anaconda3\\Lib\\site-packages\\IPython\\core\\interactiveshell.py:286\u001b[0m, in \u001b[0;36m_modified_open\u001b[1;34m(file, *args, **kwargs)\u001b[0m\n\u001b[0;32m    279\u001b[0m \u001b[38;5;28;01mif\u001b[39;00m file \u001b[38;5;129;01min\u001b[39;00m {\u001b[38;5;241m0\u001b[39m, \u001b[38;5;241m1\u001b[39m, \u001b[38;5;241m2\u001b[39m}:\n\u001b[0;32m    280\u001b[0m     \u001b[38;5;28;01mraise\u001b[39;00m \u001b[38;5;167;01mValueError\u001b[39;00m(\n\u001b[0;32m    281\u001b[0m         \u001b[38;5;124mf\u001b[39m\u001b[38;5;124m\"\u001b[39m\u001b[38;5;124mIPython won\u001b[39m\u001b[38;5;124m'\u001b[39m\u001b[38;5;124mt let you open fd=\u001b[39m\u001b[38;5;132;01m{\u001b[39;00mfile\u001b[38;5;132;01m}\u001b[39;00m\u001b[38;5;124m by default \u001b[39m\u001b[38;5;124m\"\u001b[39m\n\u001b[0;32m    282\u001b[0m         \u001b[38;5;124m\"\u001b[39m\u001b[38;5;124mas it is likely to crash IPython. If you know what you are doing, \u001b[39m\u001b[38;5;124m\"\u001b[39m\n\u001b[0;32m    283\u001b[0m         \u001b[38;5;124m\"\u001b[39m\u001b[38;5;124myou can use builtins\u001b[39m\u001b[38;5;124m'\u001b[39m\u001b[38;5;124m open.\u001b[39m\u001b[38;5;124m\"\u001b[39m\n\u001b[0;32m    284\u001b[0m     )\n\u001b[1;32m--> 286\u001b[0m \u001b[38;5;28;01mreturn\u001b[39;00m io_open(file, \u001b[38;5;241m*\u001b[39margs, \u001b[38;5;241m*\u001b[39m\u001b[38;5;241m*\u001b[39mkwargs)\n",
      "\u001b[1;31mFileNotFoundError\u001b[0m: [Errno 2] No such file or directory: 'calculations.pyw'"
     ]
    }
   ],
   "source": [
    "with open('calculations.py' 'w') as file:\n",
    "    file.write('def addition(num1, num2):\\nreturn num1 + num2\\ndef subract (num1, num2):\\nreturn num1 - num2')\n",
    "               \n",
    "               "
   ]
  },
  {
   "cell_type": "code",
   "execution_count": 33,
   "id": "5360d9b4",
   "metadata": {},
   "outputs": [],
   "source": [
    "import csv"
   ]
  },
  {
   "cell_type": "code",
   "execution_count": 38,
   "id": "e5d9dde2",
   "metadata": {},
   "outputs": [],
   "source": [
    "with open(\"data.csv\", 'w') as file:\n",
    "     csv_write = csv.writer(file,delimiter =',')\n",
    "     csv_write.writerow([\"year\",\"event\",\"winner\"])\n",
    "     csv_write.writerow([\"year\",\"event\",\"winner\"])\n",
    "     csv_write.writerow([\"year\",\"event\",\"winner\"]) "
   ]
  },
  {
   "cell_type": "code",
   "execution_count": 50,
   "id": "62077669",
   "metadata": {},
   "outputs": [
    {
     "ename": "IndentationError",
     "evalue": "unindent does not match any outer indentation level (<tokenize>, line 4)",
     "output_type": "error",
     "traceback": [
      "\u001b[1;36m  File \u001b[1;32m<tokenize>:4\u001b[1;36m\u001b[0m\n\u001b[1;33m    for record in csv_reader:\u001b[0m\n\u001b[1;37m    ^\u001b[0m\n\u001b[1;31mIndentationError\u001b[0m\u001b[1;31m:\u001b[0m unindent does not match any outer indentation level\n"
     ]
    }
   ],
   "source": [
    "with open(\"data.csv\", 'r') as file:\n",
    "    csv_reader = csv.reader(file, delimeter= ',')\n",
    "    csv_list = []\n",
    " for record in csv_reader:\n",
    "    csv_list += record"
   ]
  },
  {
   "cell_type": "code",
   "execution_count": 51,
   "id": "b7030e34",
   "metadata": {},
   "outputs": [],
   "source": [
    "import csv\n",
    "\n",
    "with open(\"data.csv\", 'r') as file:\n",
    "    csv_reader = csv.reader(file, delimiter=',')\n",
    "    csv_list = []\n",
    "    for record in csv_reader:\n",
    "        csv_list += record\n"
   ]
  },
  {
   "cell_type": "code",
   "execution_count": 52,
   "id": "1ba21af6",
   "metadata": {},
   "outputs": [
    {
     "name": "stdout",
     "output_type": "stream",
     "text": [
      "<_csv.reader object at 0x000001CD5530E440>\n"
     ]
    }
   ],
   "source": [
    "print(csv_reader)"
   ]
  },
  {
   "cell_type": "code",
   "execution_count": 53,
   "id": "7f912aa0",
   "metadata": {},
   "outputs": [
    {
     "data": {
      "text/plain": [
       "<_csv.reader at 0x1cd5530e440>"
      ]
     },
     "execution_count": 53,
     "metadata": {},
     "output_type": "execute_result"
    }
   ],
   "source": [
    "csv_reader"
   ]
  },
  {
   "cell_type": "raw",
   "id": "a1de8941",
   "metadata": {},
   "source": [
    "with open(\"file_handling.txt\", 'w') as file:\n",
    "    file.write('hellow, we are learning file handling')"
   ]
  },
  {
   "cell_type": "code",
   "execution_count": 15,
   "id": "e4371580",
   "metadata": {},
   "outputs": [],
   "source": [
    "with open(\" biochemistry_clinical.txt\", 'w')as file:\n",
    "    file.write('this. is the branch of science deal study in bio molecule')"
   ]
  },
  {
   "cell_type": "raw",
   "id": "653a0db9",
   "metadata": {},
   "source": [
    "with open(\"./data/file_handling.txt\", 'w') as file:\n",
    "    file.write('Hello, We are learning File Handling')\n",
    "    \n",
    "# / in in all OS\n",
    "# \\ in window\n",
    "# ./"
   ]
  },
  {
   "cell_type": "raw",
   "id": "151c8d1d",
   "metadata": {},
   "source": [
    "with open (\"./ data/file_biology.txt\", 'w'): as file\n",
    "     file.write('hello,world')"
   ]
  },
  {
   "cell_type": "code",
   "execution_count": 18,
   "id": "b2451f6e",
   "metadata": {},
   "outputs": [],
   "source": [
    "with open(\" biochemistry_clinical.txt\", 'a')as file:\n",
    "    file.write('\\nthis. is the branch of science deal study in bio molecule')"
   ]
  },
  {
   "cell_type": "raw",
   "id": "21da6c0a",
   "metadata": {},
   "source": [
    "with open('file_handling.txt', 'r') as file:\n",
    "    file_content = file.read()\n",
    "    print(file_content)"
   ]
  },
  {
   "cell_type": "code",
   "execution_count": 22,
   "id": "0547250b",
   "metadata": {},
   "outputs": [
    {
     "name": "stdout",
     "output_type": "stream",
     "text": [
      "<built-in method read of _io.TextIOWrapper object at 0x000002DA9312D220>\n"
     ]
    }
   ],
   "source": [
    "with open (\" biochemistry_clinical.txt\", 'r')as file:\n",
    "    file_content = file.read\n",
    "    print(file_content)\n",
    "    "
   ]
  },
  {
   "cell_type": "code",
   "execution_count": 24,
   "id": "6438853f",
   "metadata": {
    "scrolled": true
   },
   "outputs": [
    {
     "name": "stdout",
     "output_type": "stream",
     "text": [
      "<built-in method read of _io.TextIOWrapper object at 0x000002DA947DCAD0>\n"
     ]
    }
   ],
   "source": [
    "with open (\" biochemistry_clinical.txt\", 'r')as file:\n",
    "    file_content = file.read\n",
    "    print(file_content)\n",
    "    "
   ]
  },
  {
   "cell_type": "code",
   "execution_count": 25,
   "id": "e37d48ef",
   "metadata": {},
   "outputs": [],
   "source": [
    "file = open (\" physics.txt\", 'w')"
   ]
  },
  {
   "cell_type": "code",
   "execution_count": 29,
   "id": "984b40a4",
   "metadata": {},
   "outputs": [],
   "source": [
    "file.write('should write')\n",
    "file.close()"
   ]
  },
  {
   "cell_type": "code",
   "execution_count": 30,
   "id": "b956ac30",
   "metadata": {},
   "outputs": [],
   "source": [
    "with open (\"read_write.txt\", 'w')as file:\n",
    "    file.write('hellow world')"
   ]
  },
  {
   "cell_type": "code",
   "execution_count": 31,
   "id": "51f61dd8",
   "metadata": {},
   "outputs": [],
   "source": [
    "with open ('read_write.txt', 'r+')as file:\n",
    "    file.write('read and write')"
   ]
  },
  {
   "cell_type": "code",
   "execution_count": 32,
   "id": "6664cecc",
   "metadata": {},
   "outputs": [
    {
     "name": "stdout",
     "output_type": "stream",
     "text": [
      "<built-in method read of _io.TextIOWrapper object at 0x000002DA929E2400>\n"
     ]
    }
   ],
   "source": [
    "with open (\"read_write.txt\", 'r+')as file:\n",
    "    file_content = file.read\n",
    "    print(file_content)"
   ]
  },
  {
   "cell_type": "code",
   "execution_count": 33,
   "id": "038b6b94",
   "metadata": {},
   "outputs": [
    {
     "name": "stdout",
     "output_type": "stream",
     "text": [
      "read and write\n"
     ]
    }
   ],
   "source": [
    "with open('read_write.txt', 'r+') as file:\n",
    "    file_content = file.read()\n",
    "    print(file_content)"
   ]
  },
  {
   "cell_type": "code",
   "execution_count": 34,
   "id": "f4716dcb",
   "metadata": {},
   "outputs": [
    {
     "ename": "ModuleNotFoundError",
     "evalue": "No module named 'calculations'",
     "output_type": "error",
     "traceback": [
      "\u001b[1;31m---------------------------------------------------------------------------\u001b[0m",
      "\u001b[1;31mModuleNotFoundError\u001b[0m                       Traceback (most recent call last)",
      "Cell \u001b[1;32mIn[34], line 1\u001b[0m\n\u001b[1;32m----> 1\u001b[0m \u001b[38;5;28;01mimport\u001b[39;00m \u001b[38;5;21;01mcalculations\u001b[39;00m\n",
      "\u001b[1;31mModuleNotFoundError\u001b[0m: No module named 'calculations'"
     ]
    }
   ],
   "source": [
    "import calculations"
   ]
  },
  {
   "cell_type": "code",
   "execution_count": 35,
   "id": "491ced0a",
   "metadata": {},
   "outputs": [
    {
     "ename": "ModuleNotFoundError",
     "evalue": "No module named 'calculation'",
     "output_type": "error",
     "traceback": [
      "\u001b[1;31m---------------------------------------------------------------------------\u001b[0m",
      "\u001b[1;31mModuleNotFoundError\u001b[0m                       Traceback (most recent call last)",
      "Cell \u001b[1;32mIn[35], line 1\u001b[0m\n\u001b[1;32m----> 1\u001b[0m \u001b[38;5;28;01mfrom\u001b[39;00m \u001b[38;5;21;01mcalculation\u001b[39;00m \u001b[38;5;28;01mimport\u001b[39;00m subract, addition\n",
      "\u001b[1;31mModuleNotFoundError\u001b[0m: No module named 'calculation'"
     ]
    }
   ],
   "source": [
    "from calculation import subract, addition"
   ]
  },
  {
   "cell_type": "code",
   "execution_count": 36,
   "id": "090cb322",
   "metadata": {},
   "outputs": [],
   "source": [
    "import csv"
   ]
  },
  {
   "cell_type": "code",
   "execution_count": 37,
   "id": "37922af2",
   "metadata": {},
   "outputs": [],
   "source": [
    "with open(\"data1.csv\", 'w', newline=\"\") as file:\n",
    "    csv_write = csv.writer(file, delimiter=',')\n",
    "    csv_write.writerow([\"Year\", \"Event\",\"Winner\"]) # <- HEADER\n",
    "    csv_write.writerow([\"1995\", \"Best-Kept Lawn\",\"None\"]) # <- data/record\n",
    "    csv_write.writerow([\"1999\", \"Gobstones\",\"Welch National\"]) # <- data/record"
   ]
  },
  {
   "cell_type": "code",
   "execution_count": 38,
   "id": "9da6b4d6",
   "metadata": {},
   "outputs": [],
   "source": [
    "with open(\"data1.csv\", 'a', newline=\"\") as file:\n",
    "    csv_write = csv.writer(file, delimiter=',')\n",
    "    csv_write.writerow(['2000', 't-20', 'Pakistan']) # <- data/record\n",
    "    csv_write.writerow(['2009', 'one-day', 'Paksitan']) # <- data/record"
   ]
  },
  {
   "cell_type": "code",
   "execution_count": 40,
   "id": "1778ec5c",
   "metadata": {},
   "outputs": [],
   "source": [
    "with open(\"data1.csv\", 'r') as file:\n",
    "    csv_reader = csv.reader(file, delimiter=',')\n",
    "    csv_list = []\n",
    "    for record in csv_reader:\n",
    "        csv_list += record"
   ]
  },
  {
   "cell_type": "code",
   "execution_count": 42,
   "id": "278f1206",
   "metadata": {},
   "outputs": [
    {
     "name": "stdout",
     "output_type": "stream",
     "text": [
      "<_csv.reader object at 0x000002DA929EB2E0>\n"
     ]
    }
   ],
   "source": [
    "print(csv_reader)"
   ]
  },
  {
   "cell_type": "code",
   "execution_count": 43,
   "id": "6de85749",
   "metadata": {},
   "outputs": [
    {
     "name": "stdout",
     "output_type": "stream",
     "text": [
      "['Year', 'Event', 'Winner', '1995', 'Best-Kept Lawn', 'None', '1999', 'Gobstones', 'Welch National', '2000', 't-20', 'Pakistan', '2009', 'one-day', 'Paksitan']\n"
     ]
    }
   ],
   "source": [
    "print(csv_list)"
   ]
  },
  {
   "cell_type": "code",
   "execution_count": 44,
   "id": "473341da",
   "metadata": {},
   "outputs": [
    {
     "name": "stdout",
     "output_type": "stream",
     "text": [
      "['Year', 'Event', 'Winner']\n",
      "['1995', 'Best-Kept Lawn', 'None']\n",
      "['1999', 'Gobstones', 'Welch National']\n",
      "['2000', 't-20', 'Pakistan']\n",
      "['2009', 'one-day', 'Paksitan']\n"
     ]
    }
   ],
   "source": [
    "with open(\"data1.csv\", 'r') as file:\n",
    "    csv_reader = csv.reader(file, delimiter=',')\n",
    "    for record in list(csv_reader):\n",
    "        print(record)"
   ]
  },
  {
   "cell_type": "code",
   "execution_count": null,
   "id": "6af39ebc",
   "metadata": {},
   "outputs": [],
   "source": []
  }
 ],
 "metadata": {
  "kernelspec": {
   "display_name": "Python 3 (ipykernel)",
   "language": "python",
   "name": "python3"
  },
  "language_info": {
   "codemirror_mode": {
    "name": "ipython",
    "version": 3
   },
   "file_extension": ".py",
   "mimetype": "text/x-python",
   "name": "python",
   "nbconvert_exporter": "python",
   "pygments_lexer": "ipython3",
   "version": "3.11.5"
  }
 },
 "nbformat": 4,
 "nbformat_minor": 5
}
