{
 "cells": [
  {
   "cell_type": "markdown",
   "id": "3d46bea3",
   "metadata": {},
   "source": [
    "### Background"
   ]
  },
  {
   "cell_type": "code",
   "execution_count": 1,
   "id": "207eb310",
   "metadata": {},
   "outputs": [
    {
     "data": {
      "text/plain": [
       "int"
      ]
     },
     "execution_count": 1,
     "metadata": {},
     "output_type": "execute_result"
    }
   ],
   "source": [
    "type(12)"
   ]
  },
  {
   "cell_type": "code",
   "execution_count": 2,
   "id": "2e9f2410",
   "metadata": {},
   "outputs": [],
   "source": [
    "list1 = [1,2,3,4,5] # lsit1 --> object"
   ]
  },
  {
   "cell_type": "code",
   "execution_count": 3,
   "id": "7f984d92",
   "metadata": {},
   "outputs": [
    {
     "data": {
      "text/plain": [
       "['__add__',\n",
       " '__class__',\n",
       " '__class_getitem__',\n",
       " '__contains__',\n",
       " '__delattr__',\n",
       " '__delitem__',\n",
       " '__dir__',\n",
       " '__doc__',\n",
       " '__eq__',\n",
       " '__format__',\n",
       " '__ge__',\n",
       " '__getattribute__',\n",
       " '__getitem__',\n",
       " '__getstate__',\n",
       " '__gt__',\n",
       " '__hash__',\n",
       " '__iadd__',\n",
       " '__imul__',\n",
       " '__init__',\n",
       " '__init_subclass__',\n",
       " '__iter__',\n",
       " '__le__',\n",
       " '__len__',\n",
       " '__lt__',\n",
       " '__mul__',\n",
       " '__ne__',\n",
       " '__new__',\n",
       " '__reduce__',\n",
       " '__reduce_ex__',\n",
       " '__repr__',\n",
       " '__reversed__',\n",
       " '__rmul__',\n",
       " '__setattr__',\n",
       " '__setitem__',\n",
       " '__sizeof__',\n",
       " '__str__',\n",
       " '__subclasshook__',\n",
       " 'append',\n",
       " 'clear',\n",
       " 'copy',\n",
       " 'count',\n",
       " 'extend',\n",
       " 'index',\n",
       " 'insert',\n",
       " 'pop',\n",
       " 'remove',\n",
       " 'reverse',\n",
       " 'sort']"
      ]
     },
     "execution_count": 3,
     "metadata": {},
     "output_type": "execute_result"
    }
   ],
   "source": [
    "dir(list1)"
   ]
  },
  {
   "cell_type": "code",
   "execution_count": null,
   "id": "b1a86fc8",
   "metadata": {},
   "outputs": [],
   "source": [
    "object = attributes(charactertistics) + Methods(Behavior)"
   ]
  },
  {
   "cell_type": "markdown",
   "id": "cf5d114b",
   "metadata": {},
   "source": [
    "### Classes"
   ]
  },
  {
   "cell_type": "code",
   "execution_count": 4,
   "id": "6eb6771e",
   "metadata": {},
   "outputs": [],
   "source": [
    "class patient():\n",
    "    pass"
   ]
  },
  {
   "cell_type": "markdown",
   "id": "b593278f",
   "metadata": {},
   "source": [
    "### Classes: Starting to build the structure"
   ]
  },
  {
   "cell_type": "raw",
   "id": "933dc14e",
   "metadata": {},
   "source": [
    "class patient(): \n",
    "    def __init__(**kuchbi**, first_name):\n",
    "        **kuchbi**.**what_ever** = first_name"
   ]
  },
  {
   "cell_type": "code",
   "execution_count": 6,
   "id": "51ce4137",
   "metadata": {},
   "outputs": [],
   "source": [
    "class patient():\n",
    "    def __init__(self, first_name):\n",
    "        self.first_name = first_name"
   ]
  },
  {
   "cell_type": "markdown",
   "id": "a2c4d4c5",
   "metadata": {},
   "source": [
    "### Classes: A bit of housekeeping"
   ]
  },
  {
   "cell_type": "code",
   "execution_count": 7,
   "id": "b78f4233",
   "metadata": {},
   "outputs": [],
   "source": [
    "class patient():\n",
    "    def __init__(self, first_name, last_name, age):\n",
    "        self.first_name = first_name\n",
    "        self.last_name = last_name\n",
    "        self.age = age"
   ]
  },
  {
   "cell_type": "markdown",
   "id": "fcbe6cd3",
   "metadata": {},
   "source": [
    "### Classes: Creating an instance"
   ]
  },
  {
   "cell_type": "code",
   "execution_count": 8,
   "id": "9fc4fce5",
   "metadata": {},
   "outputs": [],
   "source": [
    "p_qasim = patient('Qasim', 'Hassan', 19)"
   ]
  },
  {
   "cell_type": "code",
   "execution_count": 9,
   "id": "b6e3e71e",
   "metadata": {},
   "outputs": [
    {
     "data": {
      "text/plain": [
       "'Qasim'"
      ]
     },
     "execution_count": 9,
     "metadata": {},
     "output_type": "execute_result"
    }
   ],
   "source": [
    "p_qasim.first_name"
   ]
  },
  {
   "cell_type": "code",
   "execution_count": 10,
   "id": "8a42f864",
   "metadata": {},
   "outputs": [
    {
     "data": {
      "text/plain": [
       "'Hassan'"
      ]
     },
     "execution_count": 10,
     "metadata": {},
     "output_type": "execute_result"
    }
   ],
   "source": [
    "p_qasim.last_name"
   ]
  },
  {
   "cell_type": "code",
   "execution_count": 11,
   "id": "0fb2c0f6",
   "metadata": {},
   "outputs": [
    {
     "data": {
      "text/plain": [
       "19"
      ]
     },
     "execution_count": 11,
     "metadata": {},
     "output_type": "execute_result"
    }
   ],
   "source": [
    "p_qasim.age"
   ]
  },
  {
   "cell_type": "code",
   "execution_count": 12,
   "id": "7343def5",
   "metadata": {},
   "outputs": [],
   "source": [
    "p_mehmood = patient('Muhammad', 'Mehmood', 17)"
   ]
  },
  {
   "cell_type": "markdown",
   "id": "98c64f5f",
   "metadata": {},
   "source": [
    "### Classes: Getting info out of instances\n"
   ]
  },
  {
   "cell_type": "code",
   "execution_count": 16,
   "id": "67f3506c",
   "metadata": {},
   "outputs": [
    {
     "data": {
      "text/plain": [
       "17"
      ]
     },
     "execution_count": 16,
     "metadata": {},
     "output_type": "execute_result"
    }
   ],
   "source": [
    "p_mehmood.age"
   ]
  },
  {
   "cell_type": "code",
   "execution_count": 17,
   "id": "2cfcab35",
   "metadata": {},
   "outputs": [
    {
     "data": {
      "text/plain": [
       "'Muhammad'"
      ]
     },
     "execution_count": 17,
     "metadata": {},
     "output_type": "execute_result"
    }
   ],
   "source": [
    "p_mehmood.first_name"
   ]
  },
  {
   "cell_type": "code",
   "execution_count": 18,
   "id": "a5848107",
   "metadata": {},
   "outputs": [
    {
     "data": {
      "text/plain": [
       "'Mehmood'"
      ]
     },
     "execution_count": 18,
     "metadata": {},
     "output_type": "execute_result"
    }
   ],
   "source": [
    "p_mehmood.last_name"
   ]
  },
  {
   "cell_type": "markdown",
   "id": "aedd697e",
   "metadata": {},
   "source": [
    "### Classes: Building functions into them, Changing an attribute's value"
   ]
  },
  {
   "cell_type": "code",
   "execution_count": 19,
   "id": "6f6f7797",
   "metadata": {},
   "outputs": [],
   "source": [
    "def under_age(first_name, last_name, age):\n",
    "    if age < 18:\n",
    "        print(f\"{first_name} {last_name} is UNDERAGE becuase of age {age} : WARD 1\")\n",
    "    else:\n",
    "        print(f\"{first_name} {last_name} is NOT UNDERAGE becuase of age {age} : WARD 2\")"
   ]
  },
  {
   "cell_type": "code",
   "execution_count": 20,
   "id": "5ccd0592",
   "metadata": {},
   "outputs": [
    {
     "name": "stdout",
     "output_type": "stream",
     "text": [
      "Qasim Hassan is NOT UNDERAGE becuase of age 19 : WARD 2\n"
     ]
    }
   ],
   "source": [
    "under_age('Qasim', 'Hassan', 19)"
   ]
  },
  {
   "cell_type": "code",
   "execution_count": 21,
   "id": "286d3da3",
   "metadata": {},
   "outputs": [
    {
     "name": "stdout",
     "output_type": "stream",
     "text": [
      "Muhammad Mehmood is UNDERAGE becuase of age 17 : WARD 1\n"
     ]
    }
   ],
   "source": [
    "under_age('Muhammad', 'Mehmood', 17)"
   ]
  },
  {
   "cell_type": "code",
   "execution_count": 31,
   "id": "9fcdb30c",
   "metadata": {},
   "outputs": [],
   "source": [
    "class patient():\n",
    "    def __init__(self, first_name, last_name, age):\n",
    "        self.first_name = first_name\n",
    "        self.last_name = last_name\n",
    "        self.age = age\n",
    "    \n",
    "    def under_age(self):\n",
    "        if self.age < 18:\n",
    "            print(f\"{self.first_name} {self.last_name} is UNDERAGE becuase of age {self.age} : WARD 1\")\n",
    "        else:\n",
    "            print(f\"{self.first_name} {self.last_name} is NOT UNDERAGE becuase of age {self.age} : WARD 2\")\n",
    "    \n",
    "    def change_name(self, update_first_name):\n",
    "        self.first_name = update_first_name"
   ]
  },
  {
   "cell_type": "code",
   "execution_count": 32,
   "id": "40dfe8fa",
   "metadata": {},
   "outputs": [],
   "source": [
    "p_qasim = patient('Qasim', 'Hassan', 19)"
   ]
  },
  {
   "cell_type": "code",
   "execution_count": 33,
   "id": "b4b0e9f6",
   "metadata": {},
   "outputs": [
    {
     "name": "stdout",
     "output_type": "stream",
     "text": [
      "Qasim Hassan is NOT UNDERAGE becuase of age 19 : WARD 2\n"
     ]
    }
   ],
   "source": [
    "p_qasim.under_age()"
   ]
  },
  {
   "cell_type": "code",
   "execution_count": 34,
   "id": "191fe1e6",
   "metadata": {},
   "outputs": [],
   "source": [
    "p_qasim.change_name('Muhammad')"
   ]
  },
  {
   "cell_type": "code",
   "execution_count": 35,
   "id": "1650f894",
   "metadata": {},
   "outputs": [
    {
     "data": {
      "text/plain": [
       "'Muhammad'"
      ]
     },
     "execution_count": 35,
     "metadata": {},
     "output_type": "execute_result"
    }
   ],
   "source": [
    "p_qasim.first_name"
   ]
  },
  {
   "cell_type": "code",
   "execution_count": null,
   "id": "ad9c03c1",
   "metadata": {},
   "outputs": [],
   "source": [
    "TASK:\n",
    "    \n",
    "- create a class of cars\n",
    "- initialize any three attributes of a class\n",
    "- create a method of a class\n",
    "- create a method that update atleast one attribute of class car\n",
    "- initialize the class & test all above"
   ]
  },
  {
   "cell_type": "code",
   "execution_count": null,
   "id": "d72774fd",
   "metadata": {},
   "outputs": [],
   "source": [
    "class SaylaniAdmissions:\n",
    "    def _init_(self, courses_launch=[], faculty_members=[], timings={}):\n",
    "        self.courses_launch = courses_launch\n",
    "        self.faculty_members = faculty_members\n",
    "        self.timings = timings\n",
    "\n",
    "    def update_information(self):\n",
    "        print(\"Please provide the latest information:\")\n",
    "        courses = input(\"Enter courses launched for the latest batch (comma-separated): \").split(\",\")\n",
    "        faculties = input(\"Enter faculty members for the latest batch (comma-separated): \").split(\",\")\n",
    "        print(\"Enter timings for each course:\")\n",
    "        timings = {}\n",
    "        for course in courses:\n",
    "            timings[course] = input(f\"Enter timings for {course}: \")\n",
    "        self.courses_launch = courses\n",
    "        self.faculty_members = faculties\n",
    "        self.timings = timings\n",
    "\n",
    "    def print_latest_information(self):\n",
    "        print(\"Latest Batch Information:\")\n",
    "        for course, faculty in zip(self.courses_launch, self.faculty_members):\n",
    "            print(f\"Course: {course} | Faculty: {faculty} | Timings: {self.timings.get(course)}\")\n",
    "\n",
    "    def calculate_budget(self, total_registrations):\n",
    "        expense_per_student = 523.75\n",
    "        total_expense = total_registrations * expense_per_student\n",
    "        return total_expense\n",
    "\n",
    "saylani_batch = SaylaniAdmissions([\"Python Programming\", \"Web Development\"], \n",
    "                                   [\"John Doe\", \"Jane Smith\"], \n",
    "                                   {\"Python Programming\": \"9:00 AM - 11:00 AM\", \"Web Development\": \"1:00 PM - 3:00 PM\"})\n",
    "\n",
    "saylani_batch.print_latest_information()\n",
    "\n",
    "saylani_batch.update_information()\n",
    "\n",
    "saylani_batch.print_latest_information()\n",
    "\n",
    "registrations = 50\n",
    "total_budget = saylani_batch.calculate_budget(registrations)\n",
    "print(f\"Total budget for {registrations} registrations: ${total_budget}\")"
   ]
  },
  {
   "cell_type": "code",
   "execution_count": 1,
   "id": "83528814",
   "metadata": {},
   "outputs": [
    {
     "ename": "KeyboardInterrupt",
     "evalue": "Interrupted by user",
     "output_type": "error",
     "traceback": [
      "\u001b[1;31m---------------------------------------------------------------------------\u001b[0m",
      "\u001b[1;31mKeyboardInterrupt\u001b[0m                         Traceback (most recent call last)",
      "Cell \u001b[1;32mIn[1], line 4\u001b[0m\n\u001b[0;32m      1\u001b[0m good_students \u001b[38;5;241m=\u001b[39m [\u001b[38;5;124m\"\u001b[39m\u001b[38;5;124manees\u001b[39m\u001b[38;5;124m\"\u001b[39m, \u001b[38;5;124m\"\u001b[39m\u001b[38;5;124mhamza\u001b[39m\u001b[38;5;124m\"\u001b[39m, \u001b[38;5;124m\"\u001b[39m\u001b[38;5;124mhammad\u001b[39m\u001b[38;5;124m\"\u001b[39m, \u001b[38;5;124m\"\u001b[39m\u001b[38;5;124mmumtaz\u001b[39m\u001b[38;5;124m\"\u001b[39m, \u001b[38;5;124m\"\u001b[39m\u001b[38;5;124mali\u001b[39m\u001b[38;5;124m\"\u001b[39m]\n\u001b[0;32m      2\u001b[0m bad_students \u001b[38;5;241m=\u001b[39m [\u001b[38;5;124m\"\u001b[39m\u001b[38;5;124musama\u001b[39m\u001b[38;5;124m\"\u001b[39m, \u001b[38;5;124m\"\u001b[39m\u001b[38;5;124mahmed\u001b[39m\u001b[38;5;124m\"\u001b[39m, \u001b[38;5;124m\"\u001b[39m\u001b[38;5;124masad\u001b[39m\u001b[38;5;124m\"\u001b[39m, \u001b[38;5;124m\"\u001b[39m\u001b[38;5;124mshoaib\u001b[39m\u001b[38;5;124m\"\u001b[39m]\n\u001b[1;32m----> 4\u001b[0m student_name \u001b[38;5;241m=\u001b[39m \u001b[38;5;28minput\u001b[39m(\u001b[38;5;124m\"\u001b[39m\u001b[38;5;124mEnter a student\u001b[39m\u001b[38;5;124m'\u001b[39m\u001b[38;5;124ms name: \u001b[39m\u001b[38;5;124m\"\u001b[39m)\n\u001b[0;32m      6\u001b[0m \u001b[38;5;28;01mif\u001b[39;00m student_name \u001b[38;5;129;01min\u001b[39;00m good_students:\n\u001b[0;32m      7\u001b[0m     \u001b[38;5;28mprint\u001b[39m(\u001b[38;5;124mf\u001b[39m\u001b[38;5;124m\"\u001b[39m\u001b[38;5;132;01m{\u001b[39;00mstudent_name\u001b[38;5;132;01m}\u001b[39;00m\u001b[38;5;124m is a good student.\u001b[39m\u001b[38;5;124m\"\u001b[39m)\n",
      "File \u001b[1;32m~\\anaconda3\\Lib\\site-packages\\ipykernel\\kernelbase.py:1202\u001b[0m, in \u001b[0;36mKernel.raw_input\u001b[1;34m(self, prompt)\u001b[0m\n\u001b[0;32m   1200\u001b[0m     msg \u001b[38;5;241m=\u001b[39m \u001b[38;5;124m\"\u001b[39m\u001b[38;5;124mraw_input was called, but this frontend does not support input requests.\u001b[39m\u001b[38;5;124m\"\u001b[39m\n\u001b[0;32m   1201\u001b[0m     \u001b[38;5;28;01mraise\u001b[39;00m StdinNotImplementedError(msg)\n\u001b[1;32m-> 1202\u001b[0m \u001b[38;5;28;01mreturn\u001b[39;00m \u001b[38;5;28mself\u001b[39m\u001b[38;5;241m.\u001b[39m_input_request(\n\u001b[0;32m   1203\u001b[0m     \u001b[38;5;28mstr\u001b[39m(prompt),\n\u001b[0;32m   1204\u001b[0m     \u001b[38;5;28mself\u001b[39m\u001b[38;5;241m.\u001b[39m_parent_ident[\u001b[38;5;124m\"\u001b[39m\u001b[38;5;124mshell\u001b[39m\u001b[38;5;124m\"\u001b[39m],\n\u001b[0;32m   1205\u001b[0m     \u001b[38;5;28mself\u001b[39m\u001b[38;5;241m.\u001b[39mget_parent(\u001b[38;5;124m\"\u001b[39m\u001b[38;5;124mshell\u001b[39m\u001b[38;5;124m\"\u001b[39m),\n\u001b[0;32m   1206\u001b[0m     password\u001b[38;5;241m=\u001b[39m\u001b[38;5;28;01mFalse\u001b[39;00m,\n\u001b[0;32m   1207\u001b[0m )\n",
      "File \u001b[1;32m~\\anaconda3\\Lib\\site-packages\\ipykernel\\kernelbase.py:1245\u001b[0m, in \u001b[0;36mKernel._input_request\u001b[1;34m(self, prompt, ident, parent, password)\u001b[0m\n\u001b[0;32m   1242\u001b[0m \u001b[38;5;28;01mexcept\u001b[39;00m \u001b[38;5;167;01mKeyboardInterrupt\u001b[39;00m:\n\u001b[0;32m   1243\u001b[0m     \u001b[38;5;66;03m# re-raise KeyboardInterrupt, to truncate traceback\u001b[39;00m\n\u001b[0;32m   1244\u001b[0m     msg \u001b[38;5;241m=\u001b[39m \u001b[38;5;124m\"\u001b[39m\u001b[38;5;124mInterrupted by user\u001b[39m\u001b[38;5;124m\"\u001b[39m\n\u001b[1;32m-> 1245\u001b[0m     \u001b[38;5;28;01mraise\u001b[39;00m \u001b[38;5;167;01mKeyboardInterrupt\u001b[39;00m(msg) \u001b[38;5;28;01mfrom\u001b[39;00m \u001b[38;5;28;01mNone\u001b[39;00m\n\u001b[0;32m   1246\u001b[0m \u001b[38;5;28;01mexcept\u001b[39;00m \u001b[38;5;167;01mException\u001b[39;00m:\n\u001b[0;32m   1247\u001b[0m     \u001b[38;5;28mself\u001b[39m\u001b[38;5;241m.\u001b[39mlog\u001b[38;5;241m.\u001b[39mwarning(\u001b[38;5;124m\"\u001b[39m\u001b[38;5;124mInvalid Message:\u001b[39m\u001b[38;5;124m\"\u001b[39m, exc_info\u001b[38;5;241m=\u001b[39m\u001b[38;5;28;01mTrue\u001b[39;00m)\n",
      "\u001b[1;31mKeyboardInterrupt\u001b[0m: Interrupted by user"
     ]
    }
   ],
   "source": [
    "good_students = [\"anees\", \"hamza\", \"hammad\", \"mumtaz\", \"ali\"]\n",
    "bad_students = [\"usama\", \"ahmed\", \"asad\", \"shoaib\"]\n",
    "\n",
    "student_name = input(\"Enter a student's name: \")\n",
    "\n",
    "if student_name in good_students:\n",
    "    print(f\"{student_name} is a good student.\")\n",
    "elif student_name in bad_students:\n",
    "    print(f\"{student_name} is a bad student.\")\n",
    "else:\n",
    "    print(f\"{student_name} is not in the list.\")\n"
   ]
  },
  {
   "cell_type": "code",
   "execution_count": null,
   "id": "dabce2e8",
   "metadata": {},
   "outputs": [],
   "source": [
    "class SaylaniAdmissions:\n",
    "    def __init__(self, courses_launch, faculty_members):\n",
    "        self.courses_launch = courses_launch\n",
    "        self.faculty_members = faculty_members\n",
    "        self.timings = {}  # Assuming timings are initially empty\n",
    "\n",
    "    def update_batch_info(self, courses_launch, faculty_members, timings):\n",
    "        self.courses_launch = courses_launch\n",
    "        self.faculty_members = faculty_members\n",
    "        self.timings = timings\n",
    "\n",
    "    def print_latest_batch_info(self):\n",
    "        print(\"Latest Batch Information:\")\n",
    "        for course, faculty in self.faculty_members.items():\n",
    "            print(f\"Course: {course}, Faculty: {faculty}, Timings: {self.timings.get(course, 'Not Available')}\")\n",
    "\n",
    "    def calculate_budget(self, total_registrations):\n",
    "        per_student_expense = 523.75\n",
    "        total_budget = total_registrations * per_student_expense\n",
    "        return total_budget\n",
    "\n",
    "# Example Usage\n",
    "courses_launch = {\n",
    "    \"Python Programming\": \"March 1, 2024\",\n",
    "    \"Web Development\": \"March 15, 2024\"\n",
    "}\n",
    "faculty_members = {\n",
    "    \"Python Programming\": \"John Doe\",\n",
    "    \"Web Development\": \"Jane Smith\"\n",
    "}\n",
    "timings = {\n",
    "    \"Python Programming\": \"6:00 PM - 8:00 PM\",\n",
    "    \"Web Development\": \"8:00 PM - 10:00 PM\"\n",
    "}\n",
    "\n",
    "saylani_admissions = SaylaniAdmissions(courses_launch, faculty_members)\n",
    "\n",
    "# Update batch info\n",
    "new_courses_launch = {\n",
    "    \"Data Science\": \"April 1, 2024\",\n",
    "    \"Machine Learning\": \"April 15, 2024\"\n",
    "}\n",
    "new_faculty_members = {\n",
    "    \"Data Science\": \"Alice Johnson\",\n",
    "    \"Machine Learning\": \"Bob Brown\"\n",
    "}\n",
    "new_timings = {\n",
    "    \"Data Science\": \"6:00 PM - 8:00 PM\",\n",
    "    \"Machine Learning\": \"8:00 PM - 10:00 PM\"\n",
    "}\n",
    "saylani_admissions.update_batch_info(new_courses_launch, new_faculty_members, new_timings)\n",
    "\n",
    "# Print latest batch info\n",
    "saylani_admissions.print_latest_batch_info()\n",
    "\n",
    "# Calculate budget\n",
    "total_registrations = 100\n",
    "total_budget = saylani_admissions.calculate_budget(total_registrations)\n",
    "print(f\"Total budget for new admissions: ${total_budget:.2f}\")\n"
   ]
  },
  {
   "cell_type": "raw",
   "id": "c52e7e14",
   "metadata": {},
   "source": [
    "class Teacher():\n",
    "    def __init__(self, teacher_id , teacher_name): # method/constructor\n",
    "        self.name = teacher_name #self.attribute_name = value\n",
    "        self.teacher_id  = teacher_id\n",
    "        self.organization_name= \"SMIT\"\n",
    "\n",
    "\n",
    "    def speak(self, words : str ): # method\n",
    "        print(f\"{self.name} is speaking {words}\")\n",
    "    \n",
    "    def teaching(self, subject : str ): # method\n",
    "        print(f\"{self.name} is teaching {subject}...!\")"
   ]
  },
  {
   "cell_type": "code",
   "execution_count": null,
   "id": "7f49aa99",
   "metadata": {},
   "outputs": [],
   "source": []
  },
  {
   "cell_type": "markdown",
   "id": "254d7003",
   "metadata": {},
   "source": []
  },
  {
   "cell_type": "code",
   "execution_count": 2,
   "id": "b8c05b77",
   "metadata": {},
   "outputs": [],
   "source": [
    "class Teacher():\n",
    "    def __init__(self, teacher_id, teacher_name):\n",
    "        self.name = teacher_name\n",
    "        self.teacher_id = teacher_id\n",
    "        self.organization_name = \"SMIT\"\n",
    "        \n",
    "    def speak(self,word : str):\n",
    "        print(f\"{self.name} is speaking {word}\")\n",
    "        \n",
    "    def teaching(self,subject : str):\n",
    "        print(f\"{self.name} is teaching {subject} ...!\")\n",
    "        \n",
    "    "
   ]
  },
  {
   "cell_type": "code",
   "execution_count": 5,
   "id": "d6a29d16",
   "metadata": {},
   "outputs": [],
   "source": [
    "obj1 = Teacher(\"687\",\"sadaf\")"
   ]
  },
  {
   "cell_type": "code",
   "execution_count": 6,
   "id": "d3c40539",
   "metadata": {},
   "outputs": [
    {
     "data": {
      "text/plain": [
       "<bound method Teacher.speak of <__main__.Teacher object at 0x0000024F45250F10>>"
      ]
     },
     "execution_count": 6,
     "metadata": {},
     "output_type": "execute_result"
    }
   ],
   "source": [
    "obj1.speak"
   ]
  },
  {
   "cell_type": "code",
   "execution_count": 7,
   "id": "6d05496d",
   "metadata": {},
   "outputs": [
    {
     "name": "stdout",
     "output_type": "stream",
     "text": [
      "sadaf is teaching chemistry ...!\n"
     ]
    }
   ],
   "source": [
    "obj1.teaching(\"chemistry\")"
   ]
  },
  {
   "cell_type": "code",
   "execution_count": 8,
   "id": "b28b48fa",
   "metadata": {},
   "outputs": [
    {
     "name": "stdout",
     "output_type": "stream",
     "text": [
      "sadaf is speaking zinda bad\n"
     ]
    }
   ],
   "source": [
    "obj1.speak(\"zinda bad\")"
   ]
  },
  {
   "cell_type": "code",
   "execution_count": 9,
   "id": "6d0544e7",
   "metadata": {},
   "outputs": [
    {
     "data": {
      "text/plain": [
       "'687'"
      ]
     },
     "execution_count": 9,
     "metadata": {},
     "output_type": "execute_result"
    }
   ],
   "source": [
    "obj1.teacher_id"
   ]
  },
  {
   "cell_type": "code",
   "execution_count": 10,
   "id": "388433a7",
   "metadata": {},
   "outputs": [],
   "source": [
    "obj1 = Teacher(1,\"Qasim hassan\") \n",
    "# obj1 = object, teacher class instance\n",
    "obj2 = Teacher(2, \"Mehmood-ul-Hassan\")"
   ]
  },
  {
   "cell_type": "code",
   "execution_count": 11,
   "id": "c70d6b3d",
   "metadata": {},
   "outputs": [
    {
     "name": "stdout",
     "output_type": "stream",
     "text": [
      "Mehmood-ul-Hassan is teaching bio ...!\n"
     ]
    }
   ],
   "source": [
    "obj2.teaching(\"bio\")"
   ]
  },
  {
   "cell_type": "raw",
   "id": "c79a1ec2",
   "metadata": {},
   "source": [
    "class Teacher():\n",
    "    counter : int = 0 # Class variable1\n",
    "    help_line_number : str = \"0315-2338675\" # class variable2\n",
    "    \n",
    "    def __init__(self, teacher_id , teacher_name): # method/constructor\n",
    "        self.name = teacher_name #self.attribute_name = value\n",
    "        self.teacher_id  = teacher_id\n",
    "        self.organization_name= \"SMIT\"\n",
    "        Teacher.counter +=1\n",
    "\n",
    "\n",
    "    def speak(self, words : str ): # method\n",
    "        print(f\"{self.name} is speaking {words}\")\n",
    "    \n",
    "    def teaching(self, subject : str ): # method\n",
    "        print(f\"{self.name} is teaching {subject}...!\")\n",
    "    \n",
    "    def details(self)->None:\n",
    "        information : str = f\"\"\"\n",
    "Teacher name is {self.name}\n",
    "our help line number is {Teacher.help_line_number}\n",
    "\n",
    "\"\"\"\n",
    "        print(information)"
   ]
  },
  {
   "cell_type": "code",
   "execution_count": 13,
   "id": "783f8e6f",
   "metadata": {},
   "outputs": [
    {
     "ename": "SyntaxError",
     "evalue": "incomplete input (2271226217.py, line 17)",
     "output_type": "error",
     "traceback": [
      "\u001b[1;36m  Cell \u001b[1;32mIn[13], line 17\u001b[1;36m\u001b[0m\n\u001b[1;33m    information : str = f\"\"\"\"\u001b[0m\n\u001b[1;37m                        ^\u001b[0m\n\u001b[1;31mSyntaxError\u001b[0m\u001b[1;31m:\u001b[0m incomplete input\n"
     ]
    }
   ],
   "source": [
    "class Teacher():\n",
    "    counter : int = 0\n",
    "    help_line_number : str = \"0315_2324332\"\n",
    "        \n",
    "    def __init__(self, teacher_id, teacher_name):\n",
    "        self.name = teacher_name\n",
    "        self.teacher_id = teacher_id\n",
    "        self.organization_name = \"SMIT\"\n",
    "        \n",
    "    def speak(self,word : str):\n",
    "        print(f\"{self.name} is speaking {word}\")\n",
    "        \n",
    "    def teaching(self,subject : str):\n",
    "        print(f\"{self.name} is teaching {subject} ...!\")\n",
    "         \n",
    "    def details(self)->none:\n",
    "        information : str = f\"\"\"\"\n",
    "        \n",
    "Teacher name is {self.name}\n",
    "our help line number is { Teacher.help_line_number}\n",
    "\n",
    "    \n",
    "               print(information)\n",
    "\n",
    "    "
   ]
  },
  {
   "cell_type": "code",
   "execution_count": 14,
   "id": "af7525fc",
   "metadata": {},
   "outputs": [],
   "source": [
    "class Teacher():\n",
    "    counter : int = 0 # Class variable1\n",
    "    help_line_number : str = \"0315-2338675\" # class variable2\n",
    "    \n",
    "    def __init__(self, teacher_id , teacher_name): # method/constructor\n",
    "        self.name = teacher_name #self.attribute_name = value\n",
    "        self.teacher_id  = teacher_id\n",
    "        self.organization_name= \"SMIT\"\n",
    "        Teacher.counter +=1\n",
    "\n",
    "\n",
    "    def speak(self, words : str ): # method\n",
    "        print(f\"{self.name} is speaking {words}\")\n",
    "    \n",
    "    def teaching(self, subject : str ): # method\n",
    "        print(f\"{self.name} is teaching {subject}...!\")\n",
    "    \n",
    "    def details(self)->None:\n",
    "        information : str = f\"\"\"\n",
    "Teacher name is {self.name}\n",
    "our help line number is {Teacher.help_line_number}\n",
    "\n",
    "\"\"\"\n",
    "        print(information)"
   ]
  },
  {
   "cell_type": "code",
   "execution_count": 15,
   "id": "552c5525",
   "metadata": {},
   "outputs": [
    {
     "name": "stdout",
     "output_type": "stream",
     "text": [
      "1 1\n"
     ]
    }
   ],
   "source": [
    "obj1 = Teacher(1,\"Qasim hassan\")\n",
    "print(Teacher.counter, obj1.counter)"
   ]
  },
  {
   "cell_type": "code",
   "execution_count": 16,
   "id": "1f0d15fb",
   "metadata": {},
   "outputs": [
    {
     "name": "stdout",
     "output_type": "stream",
     "text": [
      "2 2\n"
     ]
    }
   ],
   "source": [
    "obj2 : Teacher = Teacher(2, \"Mehmood-ul-Hassan\")\n",
    "print(Teacher.counter, obj1.counter)"
   ]
  },
  {
   "cell_type": "code",
   "execution_count": 17,
   "id": "1d776b76",
   "metadata": {},
   "outputs": [
    {
     "name": "stdout",
     "output_type": "stream",
     "text": [
      "0315-2338675\n",
      "0315-2338675\n",
      "0315-2338675\n"
     ]
    }
   ],
   "source": [
    "print(obj1.help_line_number)\n",
    "print(obj2.help_line_number)\n",
    "print(Teacher.help_line_number)"
   ]
  },
  {
   "cell_type": "code",
   "execution_count": 18,
   "id": "ffe83267",
   "metadata": {},
   "outputs": [
    {
     "name": "stdout",
     "output_type": "stream",
     "text": [
      "\n",
      "Teacher name is Qasim hassan\n",
      "our help line number is 0315-2338675\n",
      "\n",
      "\n"
     ]
    }
   ],
   "source": [
    "obj1.details()"
   ]
  },
  {
   "cell_type": "code",
   "execution_count": 19,
   "id": "74ab1f4e",
   "metadata": {},
   "outputs": [
    {
     "data": {
      "text/plain": [
       "1"
      ]
     },
     "execution_count": 19,
     "metadata": {},
     "output_type": "execute_result"
    }
   ],
   "source": [
    "obj1.teacher_id"
   ]
  },
  {
   "cell_type": "code",
   "execution_count": 20,
   "id": "60b01015",
   "metadata": {},
   "outputs": [
    {
     "data": {
      "text/plain": [
       "'SMIT'"
      ]
     },
     "execution_count": 20,
     "metadata": {},
     "output_type": "execute_result"
    }
   ],
   "source": [
    "obj2.organization_name"
   ]
  },
  {
   "cell_type": "code",
   "execution_count": 22,
   "id": "273701ea",
   "metadata": {},
   "outputs": [
    {
     "name": "stdout",
     "output_type": "stream",
     "text": [
      "Qasim hassan is speaking english\n"
     ]
    }
   ],
   "source": [
    "obj1.speak(\"english\")"
   ]
  },
  {
   "cell_type": "code",
   "execution_count": 23,
   "id": "8d02965d",
   "metadata": {},
   "outputs": [
    {
     "data": {
      "text/plain": [
       "1"
      ]
     },
     "execution_count": 23,
     "metadata": {},
     "output_type": "execute_result"
    }
   ],
   "source": [
    "obj1.teacher_id"
   ]
  },
  {
   "cell_type": "code",
   "execution_count": 24,
   "id": "79428aa8",
   "metadata": {},
   "outputs": [
    {
     "name": "stdout",
     "output_type": "stream",
     "text": [
      "Qasim hassan is teaching ismlamiat...!\n"
     ]
    }
   ],
   "source": [
    "obj1.teaching(\"ismlamiat\")"
   ]
  },
  {
   "cell_type": "code",
   "execution_count": null,
   "id": "47a97476",
   "metadata": {},
   "outputs": [],
   "source": []
  }
 ],
 "metadata": {
  "kernelspec": {
   "display_name": "Python 3 (ipykernel)",
   "language": "python",
   "name": "python3"
  },
  "language_info": {
   "codemirror_mode": {
    "name": "ipython",
    "version": 3
   },
   "file_extension": ".py",
   "mimetype": "text/x-python",
   "name": "python",
   "nbconvert_exporter": "python",
   "pygments_lexer": "ipython3",
   "version": "3.11.5"
  },
  "toc": {
   "base_numbering": 1,
   "nav_menu": {},
   "number_sections": true,
   "sideBar": true,
   "skip_h1_title": false,
   "title_cell": "Table of Contents",
   "title_sidebar": "Contents",
   "toc_cell": false,
   "toc_position": {},
   "toc_section_display": true,
   "toc_window_display": false
  }
 },
 "nbformat": 4,
 "nbformat_minor": 5
}
