{
 "cells": [
  {
   "cell_type": "markdown",
   "id": "091eb41b",
   "metadata": {},
   "source": [
    "## VARIABLES"
   ]
  },
  {
   "cell_type": "markdown",
   "id": "6a421751",
   "metadata": {},
   "source": [
    "var_int = 10\n",
    "var_string = \"Qasim\"\n",
    "var_float = 12.7\n",
    "var_boolaean = True"
   ]
  },
  {
   "cell_type": "code",
   "execution_count": 3,
   "id": "dc7ba0e3",
   "metadata": {},
   "outputs": [
    {
     "name": "stdout",
     "output_type": "stream",
     "text": [
      "10\n",
      "Qasim\n",
      "12.7\n",
      "True\n"
     ]
    }
   ],
   "source": [
    "print(var_int)\n",
    "print(var_string)\n",
    "print(var_float)\n",
    "print(var_boolaean)"
   ]
  },
  {
   "cell_type": "code",
   "execution_count": 4,
   "id": "7b6a5b2d",
   "metadata": {},
   "outputs": [
    {
     "name": "stdout",
     "output_type": "stream",
     "text": [
      "<class 'int'>\n",
      "<class 'str'>\n",
      "<class 'float'>\n",
      "<class 'bool'>\n"
     ]
    }
   ],
   "source": [
    "print(type(var_int))\n",
    "print(type(var_string))\n",
    "print(type(var_float))\n",
    "print(type(var_boolaean))"
   ]
  },
  {
   "cell_type": "markdown",
   "id": "0971cd02",
   "metadata": {},
   "source": [
    "# OPERATORS"
   ]
  },
  {
   "cell_type": "code",
   "execution_count": 5,
   "id": "ec5b831a",
   "metadata": {},
   "outputs": [
    {
     "data": {
      "text/plain": [
       "4"
      ]
     },
     "execution_count": 5,
     "metadata": {},
     "output_type": "execute_result"
    }
   ],
   "source": [
    "1+3"
   ]
  },
  {
   "cell_type": "code",
   "execution_count": 6,
   "id": "d4ea6b88",
   "metadata": {},
   "outputs": [
    {
     "data": {
      "text/plain": [
       "2"
      ]
     },
     "execution_count": 6,
     "metadata": {},
     "output_type": "execute_result"
    }
   ],
   "source": [
    "5-3"
   ]
  },
  {
   "cell_type": "code",
   "execution_count": 7,
   "id": "db1d981b",
   "metadata": {},
   "outputs": [
    {
     "data": {
      "text/plain": [
       "3.0"
      ]
     },
     "execution_count": 7,
     "metadata": {},
     "output_type": "execute_result"
    }
   ],
   "source": [
    "6/2"
   ]
  },
  {
   "cell_type": "code",
   "execution_count": 8,
   "id": "ff8e667d",
   "metadata": {},
   "outputs": [
    {
     "ename": "TypeError",
     "evalue": "unsupported operand type(s) for /: 'str' and 'int'",
     "output_type": "error",
     "traceback": [
      "\u001b[1;31m---------------------------------------------------------------------------\u001b[0m",
      "\u001b[1;31mTypeError\u001b[0m                                 Traceback (most recent call last)",
      "Cell \u001b[1;32mIn[8], line 1\u001b[0m\n\u001b[1;32m----> 1\u001b[0m \u001b[38;5;124m\"\u001b[39m\u001b[38;5;124mstring\u001b[39m\u001b[38;5;124m\"\u001b[39m\u001b[38;5;241m/\u001b[39m\u001b[38;5;241m7\u001b[39m\n",
      "\u001b[1;31mTypeError\u001b[0m: unsupported operand type(s) for /: 'str' and 'int'"
     ]
    }
   ],
   "source": [
    "\"string\"/7"
   ]
  },
  {
   "cell_type": "code",
   "execution_count": 9,
   "id": "a945b484",
   "metadata": {},
   "outputs": [
    {
     "data": {
      "text/plain": [
       "True"
      ]
     },
     "execution_count": 9,
     "metadata": {},
     "output_type": "execute_result"
    }
   ],
   "source": [
    "2==2"
   ]
  },
  {
   "cell_type": "code",
   "execution_count": 10,
   "id": "467716bd",
   "metadata": {},
   "outputs": [
    {
     "data": {
      "text/plain": [
       "True"
      ]
     },
     "execution_count": 10,
     "metadata": {},
     "output_type": "execute_result"
    }
   ],
   "source": [
    "2!=6"
   ]
  },
  {
   "cell_type": "code",
   "execution_count": 11,
   "id": "4f48f5d2",
   "metadata": {},
   "outputs": [
    {
     "data": {
      "text/plain": [
       "True"
      ]
     },
     "execution_count": 11,
     "metadata": {},
     "output_type": "execute_result"
    }
   ],
   "source": [
    "3>1"
   ]
  },
  {
   "cell_type": "code",
   "execution_count": 12,
   "id": "87e4cdb7",
   "metadata": {},
   "outputs": [
    {
     "data": {
      "text/plain": [
       "False"
      ]
     },
     "execution_count": 12,
     "metadata": {},
     "output_type": "execute_result"
    }
   ],
   "source": [
    "3<1"
   ]
  },
  {
   "cell_type": "code",
   "execution_count": 13,
   "id": "c4c4bb8e",
   "metadata": {},
   "outputs": [
    {
     "data": {
      "text/plain": [
       "True"
      ]
     },
     "execution_count": 13,
     "metadata": {},
     "output_type": "execute_result"
    }
   ],
   "source": [
    "5>=5"
   ]
  },
  {
   "cell_type": "code",
   "execution_count": 14,
   "id": "60698680",
   "metadata": {},
   "outputs": [
    {
     "data": {
      "text/plain": [
       "True"
      ]
     },
     "execution_count": 14,
     "metadata": {},
     "output_type": "execute_result"
    }
   ],
   "source": [
    "5>=4"
   ]
  },
  {
   "cell_type": "code",
   "execution_count": 15,
   "id": "4ad2fd2a",
   "metadata": {},
   "outputs": [
    {
     "data": {
      "text/plain": [
       "False"
      ]
     },
     "execution_count": 15,
     "metadata": {},
     "output_type": "execute_result"
    }
   ],
   "source": [
    "5<=4"
   ]
  },
  {
   "cell_type": "code",
   "execution_count": 16,
   "id": "dfedd060",
   "metadata": {},
   "outputs": [
    {
     "data": {
      "text/plain": [
       "True"
      ]
     },
     "execution_count": 16,
     "metadata": {},
     "output_type": "execute_result"
    }
   ],
   "source": [
    "(3>4) or (3>2) # atleast one condition"
   ]
  },
  {
   "cell_type": "code",
   "execution_count": 17,
   "id": "a27d35de",
   "metadata": {},
   "outputs": [
    {
     "data": {
      "text/plain": [
       "False"
      ]
     },
     "execution_count": 17,
     "metadata": {},
     "output_type": "execute_result"
    }
   ],
   "source": [
    "(3>4) and (3>2) # both conditions must be True"
   ]
  },
  {
   "cell_type": "code",
   "execution_count": 18,
   "id": "5e8feee4",
   "metadata": {},
   "outputs": [
    {
     "data": {
      "text/plain": [
       "False"
      ]
     },
     "execution_count": 18,
     "metadata": {},
     "output_type": "execute_result"
    }
   ],
   "source": [
    "not True"
   ]
  },
  {
   "cell_type": "code",
   "execution_count": 21,
   "id": "c00f11bb",
   "metadata": {},
   "outputs": [
    {
     "data": {
      "text/plain": [
       "True"
      ]
     },
     "execution_count": 21,
     "metadata": {},
     "output_type": "execute_result"
    }
   ],
   "source": [
    "6%3 == 0"
   ]
  },
  {
   "cell_type": "markdown",
   "id": "8f1a7ff7",
   "metadata": {},
   "source": [
    "## CONDITIONAL STATEMENTS"
   ]
  },
  {
   "cell_type": "code",
   "execution_count": null,
   "id": "297a8688",
   "metadata": {},
   "outputs": [],
   "source": [
    " if (num === 0){\n",
    "     \n",
    " }\n",
    "console.log(\"Hello\")"
   ]
  },
  {
   "cell_type": "code",
   "execution_count": 26,
   "id": "e3be8e72",
   "metadata": {},
   "outputs": [
    {
     "name": "stdout",
     "output_type": "stream",
     "text": [
      "Enter a Number: 12.75\n",
      "12\n",
      "Number is Even\n",
      "contiue body of IF statement\n"
     ]
    }
   ],
   "source": [
    "num = int(float(input(\"Enter a Number: \")))\n",
    "print(num)\n",
    "\n",
    "if num%2 == 0:\n",
    "    print(\"Number is Even\")\n",
    "    print(\"contiue body of IF statement\")\n",
    "else:\n",
    "    print(\"Number is Odd\")"
   ]
  },
  {
   "cell_type": "code",
   "execution_count": 29,
   "id": "fe943cc2",
   "metadata": {},
   "outputs": [
    {
     "name": "stdout",
     "output_type": "stream",
     "text": [
      "Enter a Number: 6\n",
      "6\n",
      "Number is greater than 5\n"
     ]
    }
   ],
   "source": [
    "num = int(float(input(\"Enter a Number: \")))\n",
    "print(num)\n",
    "\n",
    "if num == 0:\n",
    "    print(\"Number is equal to zero\")\n",
    "elif (num>=1) and (num<=5):\n",
    "    print(\"Number between 1-5\")\n",
    "else:\n",
    "    print(\"Number is greater than 5\")"
   ]
  },
  {
   "cell_type": "markdown",
   "id": "82f3ec44",
   "metadata": {},
   "source": [
    "## NESTED IF"
   ]
  },
  {
   "cell_type": "code",
   "execution_count": 36,
   "id": "0d676394",
   "metadata": {},
   "outputs": [
    {
     "name": "stdout",
     "output_type": "stream",
     "text": [
      "Enter a Fruit name: banana\n",
      "banana Condition is not Defined\n"
     ]
    }
   ],
   "source": [
    "fruit = input(\"Enter a Fruit name: \")\n",
    "\n",
    "if fruit == 'Apple':\n",
    "    price = int(input(f\"Enter a {fruit} price: \"))\n",
    "    if price < 200:\n",
    "        print(f\"Buy 1kg Apples\")\n",
    "    else:\n",
    "        print(f\"Buy Half kg Apples\")\n",
    "else:\n",
    "    print(f\"{fruit} Condition is not defined\")"
   ]
  },
  {
   "cell_type": "markdown",
   "id": "668522f3",
   "metadata": {},
   "source": [
    "## LIST"
   ]
  },
  {
   "cell_type": "code",
   "execution_count": 39,
   "id": "6bcc0c94",
   "metadata": {},
   "outputs": [
    {
     "name": "stdout",
     "output_type": "stream",
     "text": [
      "<class 'list'>\n"
     ]
    }
   ],
   "source": [
    "#            0         1         2        3   \n",
    "fruits = ['Appple', 'Banana', 'Grapes', 'Kiwi']\n",
    "#           -4        -3         -2       -1\n",
    "# NOTE: Last index will not include in slicing \n",
    "print(type(fruits))"
   ]
  },
  {
   "cell_type": "code",
   "execution_count": 38,
   "id": "cd1a9e7f",
   "metadata": {},
   "outputs": [
    {
     "data": {
      "text/plain": [
       "'Appple'"
      ]
     },
     "execution_count": 38,
     "metadata": {},
     "output_type": "execute_result"
    }
   ],
   "source": [
    "fruits[0]"
   ]
  },
  {
   "cell_type": "code",
   "execution_count": 40,
   "id": "87b536e3",
   "metadata": {},
   "outputs": [
    {
     "data": {
      "text/plain": [
       "'Kiwi'"
      ]
     },
     "execution_count": 40,
     "metadata": {},
     "output_type": "execute_result"
    }
   ],
   "source": [
    "fruits[-1]"
   ]
  },
  {
   "cell_type": "code",
   "execution_count": 41,
   "id": "12b2672b",
   "metadata": {},
   "outputs": [
    {
     "data": {
      "text/plain": [
       "['Kiwi']"
      ]
     },
     "execution_count": 41,
     "metadata": {},
     "output_type": "execute_result"
    }
   ],
   "source": [
    "fruits[-1:]"
   ]
  },
  {
   "cell_type": "code",
   "execution_count": 44,
   "id": "01fb4aa1",
   "metadata": {},
   "outputs": [
    {
     "data": {
      "text/plain": [
       "['Kiwi']"
      ]
     },
     "execution_count": 44,
     "metadata": {},
     "output_type": "execute_result"
    }
   ],
   "source": [
    "fruits[3:]"
   ]
  },
  {
   "cell_type": "code",
   "execution_count": 47,
   "id": "8987010c",
   "metadata": {},
   "outputs": [
    {
     "data": {
      "text/plain": [
       "['Appple', 'Banana', 'Grapes', 'Kiwi']"
      ]
     },
     "execution_count": 47,
     "metadata": {},
     "output_type": "execute_result"
    }
   ],
   "source": [
    "fruits[-4:]"
   ]
  },
  {
   "cell_type": "code",
   "execution_count": 45,
   "id": "9cb2f86f",
   "metadata": {},
   "outputs": [
    {
     "data": {
      "text/plain": [
       "['Appple', 'Banana', 'Grapes', 'Kiwi']"
      ]
     },
     "execution_count": 45,
     "metadata": {},
     "output_type": "execute_result"
    }
   ],
   "source": [
    "fruits[0:]"
   ]
  },
  {
   "cell_type": "code",
   "execution_count": 48,
   "id": "1c0f15d4",
   "metadata": {},
   "outputs": [
    {
     "data": {
      "text/plain": [
       "['Banana', 'Grapes']"
      ]
     },
     "execution_count": 48,
     "metadata": {},
     "output_type": "execute_result"
    }
   ],
   "source": [
    "fruits[1:3] # NOTE: Last index will not include in slicing "
   ]
  },
  {
   "cell_type": "code",
   "execution_count": 51,
   "id": "bcc596a1",
   "metadata": {},
   "outputs": [],
   "source": [
    "#fruits. # will give all methods of list"
   ]
  },
  {
   "cell_type": "markdown",
   "id": "af4a7fd7",
   "metadata": {},
   "source": [
    "## TUPLE "
   ]
  },
  {
   "cell_type": "code",
   "execution_count": 62,
   "id": "7e36c77c",
   "metadata": {},
   "outputs": [
    {
     "data": {
      "text/plain": [
       "['Appple', 'Banana', 'Grapes', 'Kiwi', 'Mango']"
      ]
     },
     "execution_count": 62,
     "metadata": {},
     "output_type": "execute_result"
    }
   ],
   "source": [
    "fruits + ['Mango']"
   ]
  },
  {
   "cell_type": "code",
   "execution_count": 63,
   "id": "30584dbf",
   "metadata": {},
   "outputs": [],
   "source": [
    "tuple_fruits=tuple(fruits + ['Mango'])"
   ]
  },
  {
   "cell_type": "code",
   "execution_count": 64,
   "id": "9eed10fe",
   "metadata": {},
   "outputs": [
    {
     "data": {
      "text/plain": [
       "('Appple', 'Banana', 'Grapes', 'Kiwi', 'Mango')"
      ]
     },
     "execution_count": 64,
     "metadata": {},
     "output_type": "execute_result"
    }
   ],
   "source": [
    "tuple_fruits"
   ]
  },
  {
   "cell_type": "code",
   "execution_count": 55,
   "id": "8c3ebd23",
   "metadata": {},
   "outputs": [
    {
     "ename": "TypeError",
     "evalue": "'tuple' object does not support item assignment",
     "output_type": "error",
     "traceback": [
      "\u001b[1;31m---------------------------------------------------------------------------\u001b[0m",
      "\u001b[1;31mTypeError\u001b[0m                                 Traceback (most recent call last)",
      "Cell \u001b[1;32mIn[55], line 1\u001b[0m\n\u001b[1;32m----> 1\u001b[0m tuple_fruit[\u001b[38;5;241m0\u001b[39m] \u001b[38;5;241m=\u001b[39m \u001b[38;5;124m\"\u001b[39m\u001b[38;5;124mkuchbhi\u001b[39m\u001b[38;5;124m\"\u001b[39m\n",
      "\u001b[1;31mTypeError\u001b[0m: 'tuple' object does not support item assignment"
     ]
    }
   ],
   "source": [
    "tuple_fruit[0] = \"kuchbhi\" #becuase immutable"
   ]
  },
  {
   "cell_type": "code",
   "execution_count": 56,
   "id": "aacc3418",
   "metadata": {},
   "outputs": [
    {
     "ename": "TypeError",
     "evalue": "'tuple' object does not support item assignment",
     "output_type": "error",
     "traceback": [
      "\u001b[1;31m---------------------------------------------------------------------------\u001b[0m",
      "\u001b[1;31mTypeError\u001b[0m                                 Traceback (most recent call last)",
      "Cell \u001b[1;32mIn[56], line 1\u001b[0m\n\u001b[1;32m----> 1\u001b[0m tuple_fruit[\u001b[38;5;241m4\u001b[39m]\u001b[38;5;241m=\u001b[39m\u001b[38;5;124m\"\u001b[39m\u001b[38;5;124mmango\u001b[39m\u001b[38;5;124m\"\u001b[39m\n",
      "\u001b[1;31mTypeError\u001b[0m: 'tuple' object does not support item assignment"
     ]
    }
   ],
   "source": [
    "tuple_fruit[4]=\"mango\""
   ]
  },
  {
   "cell_type": "code",
   "execution_count": 66,
   "id": "935fb9fa",
   "metadata": {},
   "outputs": [
    {
     "data": {
      "text/plain": [
       "('Appple', 'Banana', 'Grapes')"
      ]
     },
     "execution_count": 66,
     "metadata": {},
     "output_type": "execute_result"
    }
   ],
   "source": [
    "tuple_fruit[0:3]"
   ]
  },
  {
   "cell_type": "code",
   "execution_count": 71,
   "id": "8cfb01f3",
   "metadata": {},
   "outputs": [
    {
     "data": {
      "text/plain": [
       "tuple"
      ]
     },
     "execution_count": 71,
     "metadata": {},
     "output_type": "execute_result"
    }
   ],
   "source": [
    "tpl = (\"Apple\",)\n",
    "\n",
    "type(tpl)"
   ]
  },
  {
   "cell_type": "code",
   "execution_count": 74,
   "id": "952f1f3b",
   "metadata": {},
   "outputs": [
    {
     "data": {
      "text/plain": [
       "('Appple', 'Banana', 'Grapes', 'Kiwi', 'Mango')"
      ]
     },
     "execution_count": 74,
     "metadata": {},
     "output_type": "execute_result"
    }
   ],
   "source": [
    "tuple_fruits"
   ]
  },
  {
   "cell_type": "code",
   "execution_count": 73,
   "id": "8425f8e0",
   "metadata": {},
   "outputs": [
    {
     "data": {
      "text/plain": [
       "('Appple', 'Banana', 'Grapes', 'Kiwi', 'Mango', 'Apple')"
      ]
     },
     "execution_count": 73,
     "metadata": {},
     "output_type": "execute_result"
    }
   ],
   "source": [
    "tuple_fruits + (\"Apple\",)"
   ]
  },
  {
   "cell_type": "markdown",
   "id": "31564c6f",
   "metadata": {},
   "source": [
    "## SET"
   ]
  },
  {
   "cell_type": "code",
   "execution_count": 76,
   "id": "6e04355d",
   "metadata": {},
   "outputs": [
    {
     "name": "stdout",
     "output_type": "stream",
     "text": [
      "{'Banana', 'Mango', 'Grapes', 'Kiwi', 'Appple'}\n"
     ]
    }
   ],
   "source": [
    "# unordered, keep unique value\n",
    "\n",
    "fruit_set = set(tuple_fruits + (\"Mango\",))\n",
    "print(fruit_set)"
   ]
  },
  {
   "cell_type": "code",
   "execution_count": 78,
   "id": "810eebea",
   "metadata": {},
   "outputs": [],
   "source": [
    "fruit_set.add(\"Orange\")"
   ]
  },
  {
   "cell_type": "code",
   "execution_count": 79,
   "id": "9207fc39",
   "metadata": {},
   "outputs": [
    {
     "data": {
      "text/plain": [
       "{'Appple', 'Banana', 'Grapes', 'Kiwi', 'Mango', 'Orange'}"
      ]
     },
     "execution_count": 79,
     "metadata": {},
     "output_type": "execute_result"
    }
   ],
   "source": [
    "fruit_set"
   ]
  },
  {
   "cell_type": "code",
   "execution_count": 81,
   "id": "3e9b5793",
   "metadata": {},
   "outputs": [
    {
     "data": {
      "text/plain": [
       "{'Appple', 'Grapes'}"
      ]
     },
     "execution_count": 81,
     "metadata": {},
     "output_type": "execute_result"
    }
   ],
   "source": [
    "fruit_set.intersection({'Appple', \"Grapes\"})"
   ]
  },
  {
   "cell_type": "code",
   "execution_count": 82,
   "id": "3f570e41",
   "metadata": {},
   "outputs": [
    {
     "data": {
      "text/plain": [
       "{'Banana', 'Kiwi', 'Mango', 'Orange'}"
      ]
     },
     "execution_count": 82,
     "metadata": {},
     "output_type": "execute_result"
    }
   ],
   "source": [
    "fruit_set.difference({'Appple', \"Grapes\"})"
   ]
  },
  {
   "cell_type": "code",
   "execution_count": 83,
   "id": "1fb1a8ba",
   "metadata": {},
   "outputs": [
    {
     "data": {
      "text/plain": [
       "False"
      ]
     },
     "execution_count": 83,
     "metadata": {},
     "output_type": "execute_result"
    }
   ],
   "source": [
    "fruit_set.issubset({'Appple', \"Grapes\"})"
   ]
  },
  {
   "cell_type": "code",
   "execution_count": 84,
   "id": "c5165c13",
   "metadata": {},
   "outputs": [
    {
     "data": {
      "text/plain": [
       "True"
      ]
     },
     "execution_count": 84,
     "metadata": {},
     "output_type": "execute_result"
    }
   ],
   "source": [
    "# {'Appple', 'Banana', 'Grapes', 'Kiwi', 'Mango', 'Orange'}\n",
    "fruit_set.issubset({'Appple',\n",
    "                    'Banana',\n",
    "                    'Grapes',\n",
    "                    'Kiwi',\n",
    "                    'Mango',\n",
    "                    'Orange', \n",
    "                    'kuchbi'})"
   ]
  },
  {
   "cell_type": "markdown",
   "id": "019f1714",
   "metadata": {},
   "source": [
    "## LOOPS"
   ]
  },
  {
   "cell_type": "code",
   "execution_count": 1,
   "id": "cf95daec",
   "metadata": {},
   "outputs": [],
   "source": [
    "fruits = ['Appple', 'Banana', 'Grapes', 'Kiwi', 'Mango', 'Orange']"
   ]
  },
  {
   "cell_type": "code",
   "execution_count": 2,
   "id": "e89a35d0",
   "metadata": {},
   "outputs": [
    {
     "name": "stdout",
     "output_type": "stream",
     "text": [
      "Appple\n",
      "Banana\n",
      "Grapes\n",
      "Kiwi\n",
      "Mango\n",
      "Orange\n"
     ]
    }
   ],
   "source": [
    "for temp in fruits: # tuple, set, dictionary\n",
    "    print(temp)"
   ]
  },
  {
   "cell_type": "code",
   "execution_count": 7,
   "id": "a5335148",
   "metadata": {},
   "outputs": [],
   "source": [
    "a= list(range(5))"
   ]
  },
  {
   "cell_type": "code",
   "execution_count": 8,
   "id": "db605761",
   "metadata": {},
   "outputs": [
    {
     "data": {
      "text/plain": [
       "[0, 1, 2, 3, 4]"
      ]
     },
     "execution_count": 8,
     "metadata": {},
     "output_type": "execute_result"
    }
   ],
   "source": [
    "a"
   ]
  },
  {
   "cell_type": "code",
   "execution_count": 4,
   "id": "5507e574",
   "metadata": {},
   "outputs": [
    {
     "name": "stdout",
     "output_type": "stream",
     "text": [
      "0\n",
      "1\n",
      "2\n",
      "3\n",
      "4\n"
     ]
    }
   ],
   "source": [
    "for temp in range(5):\n",
    "    print(temp)"
   ]
  },
  {
   "cell_type": "code",
   "execution_count": 47,
   "id": "043b5ff9",
   "metadata": {},
   "outputs": [
    {
     "name": "stdout",
     "output_type": "stream",
     "text": [
      "2\n",
      "4\n",
      "6\n",
      "8\n"
     ]
    }
   ],
   "source": [
    "for temp in range(2, 10, 2):\n",
    "    if temp == 6:\n",
    "        continue\n",
    "    print(temp)"
   ]
  },
  {
   "cell_type": "markdown",
   "id": "628cb210",
   "metadata": {},
   "source": [
    "## DICTIONARIES"
   ]
  },
  {
   "cell_type": "code",
   "execution_count": 14,
   "id": "8a95ccaf",
   "metadata": {},
   "outputs": [],
   "source": [
    "saylanidict = {'Name': 'Qasim', #key:value\n",
    "                'Class': 'Saylani911',\n",
    "                'Course': 'Python Programing',\n",
    "                'Timmings': '9-11'}"
   ]
  },
  {
   "cell_type": "code",
   "execution_count": 15,
   "id": "09f7f2a3",
   "metadata": {},
   "outputs": [
    {
     "data": {
      "text/plain": [
       "{'Name': 'Qasim',\n",
       " 'Class': 'Saylani911',\n",
       " 'Course': 'Python Programing',\n",
       " 'Timmings': '9-11'}"
      ]
     },
     "execution_count": 15,
     "metadata": {},
     "output_type": "execute_result"
    }
   ],
   "source": [
    "saylanidict"
   ]
  },
  {
   "cell_type": "code",
   "execution_count": 23,
   "id": "4c2c176e",
   "metadata": {},
   "outputs": [
    {
     "name": "stdout",
     "output_type": "stream",
     "text": [
      "('Name', 'Qasim')\n",
      "('Class', 'Saylani911')\n",
      "('Course', 'Python Programing')\n",
      "('Timmings', '9-11')\n"
     ]
    }
   ],
   "source": [
    "for temp in saylanidict.items():\n",
    "    print(temp)"
   ]
  },
  {
   "cell_type": "code",
   "execution_count": 19,
   "id": "484992d3",
   "metadata": {},
   "outputs": [
    {
     "name": "stdout",
     "output_type": "stream",
     "text": [
      "Name Qasim\n",
      "Class Saylani911\n",
      "Course Python Programing\n",
      "Timmings 9-11\n"
     ]
    }
   ],
   "source": [
    "for key, value in saylanidict.items():\n",
    "    print(key, value)"
   ]
  },
  {
   "cell_type": "code",
   "execution_count": 25,
   "id": "9f31b18c",
   "metadata": {},
   "outputs": [
    {
     "name": "stdout",
     "output_type": "stream",
     "text": [
      "Name\n",
      "Class\n",
      "Course\n",
      "Timmings\n"
     ]
    }
   ],
   "source": [
    "for key in saylanidict.keys():\n",
    "    print(key)"
   ]
  },
  {
   "cell_type": "code",
   "execution_count": 24,
   "id": "c3a913b8",
   "metadata": {},
   "outputs": [
    {
     "name": "stdout",
     "output_type": "stream",
     "text": [
      "Qasim\n",
      "Saylani911\n",
      "Python Programing\n",
      "9-11\n"
     ]
    }
   ],
   "source": [
    "for value in saylanidict.values():\n",
    "    print(value)"
   ]
  },
  {
   "cell_type": "code",
   "execution_count": 26,
   "id": "17375f21",
   "metadata": {},
   "outputs": [
    {
     "data": {
      "text/plain": [
       "{'Name': 'Qasim',\n",
       " 'Class': 'Saylani911',\n",
       " 'Course': 'Python Programing',\n",
       " 'Timmings': '9-11'}"
      ]
     },
     "execution_count": 26,
     "metadata": {},
     "output_type": "execute_result"
    }
   ],
   "source": [
    "saylanidict"
   ]
  },
  {
   "cell_type": "code",
   "execution_count": 27,
   "id": "196d85d0",
   "metadata": {},
   "outputs": [
    {
     "data": {
      "text/plain": [
       "'Qasim'"
      ]
     },
     "execution_count": 27,
     "metadata": {},
     "output_type": "execute_result"
    }
   ],
   "source": [
    "saylanidict['Name']"
   ]
  },
  {
   "cell_type": "code",
   "execution_count": 28,
   "id": "71772c13",
   "metadata": {},
   "outputs": [],
   "source": [
    "saylanidict['Name'] = 'Hassan'"
   ]
  },
  {
   "cell_type": "code",
   "execution_count": 29,
   "id": "f3b01f92",
   "metadata": {},
   "outputs": [
    {
     "data": {
      "text/plain": [
       "{'Name': 'Hassan',\n",
       " 'Class': 'Saylani911',\n",
       " 'Course': 'Python Programing',\n",
       " 'Timmings': '9-11'}"
      ]
     },
     "execution_count": 29,
     "metadata": {},
     "output_type": "execute_result"
    }
   ],
   "source": [
    "saylanidict"
   ]
  },
  {
   "cell_type": "code",
   "execution_count": 38,
   "id": "658f1053",
   "metadata": {},
   "outputs": [
    {
     "name": "stdout",
     "output_type": "stream",
     "text": [
      "Saylani911\n",
      "Python Programing\n"
     ]
    }
   ],
   "source": [
    "for temp in ['Class', 'Course']:\n",
    "    print(saylanidict.get(temp))"
   ]
  },
  {
   "cell_type": "code",
   "execution_count": 43,
   "id": "861199dc",
   "metadata": {},
   "outputs": [
    {
     "data": {
      "text/plain": [
       "['Class_temp', 'Course_temp']"
      ]
     },
     "execution_count": 43,
     "metadata": {},
     "output_type": "execute_result"
    }
   ],
   "source": [
    "[temp+'_temp' for temp in ['Class', 'Course']]"
   ]
  },
  {
   "cell_type": "markdown",
   "id": "81dbed29",
   "metadata": {},
   "source": [
    "## WHILE LOOP"
   ]
  },
  {
   "cell_type": "code",
   "execution_count": 44,
   "id": "d4fabb96",
   "metadata": {},
   "outputs": [
    {
     "name": "stdout",
     "output_type": "stream",
     "text": [
      "Enter a Number1\n",
      "1\n",
      "2\n",
      "3\n",
      "4\n"
     ]
    }
   ],
   "source": [
    "num= int(input(\"Enter a Number\"))\n",
    "\n",
    "while (num <5):\n",
    "    print(num)\n",
    "    num = num +1 # increment"
   ]
  },
  {
   "cell_type": "code",
   "execution_count": 55,
   "id": "624a2d7a",
   "metadata": {},
   "outputs": [
    {
     "ename": "ZeroDivisionError",
     "evalue": "division by zero",
     "output_type": "error",
     "traceback": [
      "\u001b[1;31m---------------------------------------------------------------------------\u001b[0m",
      "\u001b[1;31mZeroDivisionError\u001b[0m                         Traceback (most recent call last)",
      "Cell \u001b[1;32mIn[55], line 1\u001b[0m\n\u001b[1;32m----> 1\u001b[0m \u001b[38;5;241m5\u001b[39m\u001b[38;5;241m/\u001b[39m\u001b[38;5;241m0\u001b[39m\n\u001b[0;32m      2\u001b[0m \u001b[38;5;28mprint\u001b[39m(\u001b[38;5;124m'\u001b[39m\u001b[38;5;124mQasim\u001b[39m\u001b[38;5;124m'\u001b[39m)\n",
      "\u001b[1;31mZeroDivisionError\u001b[0m: division by zero"
     ]
    }
   ],
   "source": [
    "5/0\n",
    "print('Qasim')"
   ]
  },
  {
   "cell_type": "markdown",
   "id": "9685482a",
   "metadata": {},
   "source": [
    "## TRY-CATCH"
   ]
  },
  {
   "cell_type": "code",
   "execution_count": 57,
   "id": "03c16063",
   "metadata": {},
   "outputs": [
    {
     "name": "stdout",
     "output_type": "stream",
     "text": [
      "ETL : step 1\n",
      "Error: Demoniator can't be Zero\n",
      "ETL: step 3\n"
     ]
    }
   ],
   "source": [
    "print(\"ETL : step 1\")\n",
    "\n",
    "try:\n",
    "    5/0 # Step:2\n",
    "except:\n",
    "    print(\"Error: Demoniator can't be Zero\")\n",
    "\n",
    "print(\"ETL: step 3\")"
   ]
  },
  {
   "cell_type": "markdown",
   "id": "a8afdde0",
   "metadata": {},
   "source": [
    "## CLASSES"
   ]
  },
  {
   "cell_type": "code",
   "execution_count": 62,
   "id": "e2f90a6a",
   "metadata": {},
   "outputs": [],
   "source": [
    "class Car:\n",
    "    \n",
    "    def __init__(self, name, make, condition):\n",
    "        self.name = name\n",
    "        self.make = make\n",
    "        self.condition = condition\n",
    "        self.staticVlaue = 'static_variable'\n",
    "    \n",
    "    def get_name(self):\n",
    "        return self.name\n",
    "    \n",
    "    def set_name(self, name):\n",
    "        self.name = name\n",
    "    \n",
    "    def details(self):\n",
    "        print(f\"{self.name} is made in {self.make} & now its condition is {self.condition}\")"
   ]
  },
  {
   "cell_type": "code",
   "execution_count": 63,
   "id": "0ab79aa8",
   "metadata": {},
   "outputs": [],
   "source": [
    "obj1 = Car(\"Mehran\", 2012, 'Used')"
   ]
  },
  {
   "cell_type": "code",
   "execution_count": 67,
   "id": "0eaf1d8b",
   "metadata": {},
   "outputs": [
    {
     "data": {
      "text/plain": [
       "'Corolla'"
      ]
     },
     "execution_count": 67,
     "metadata": {},
     "output_type": "execute_result"
    }
   ],
   "source": [
    "obj1.get_name()"
   ]
  },
  {
   "cell_type": "code",
   "execution_count": 66,
   "id": "7b2126d3",
   "metadata": {},
   "outputs": [],
   "source": [
    "obj1.set_name('Corolla')"
   ]
  },
  {
   "cell_type": "code",
   "execution_count": 68,
   "id": "47b3ab78",
   "metadata": {},
   "outputs": [
    {
     "name": "stdout",
     "output_type": "stream",
     "text": [
      "Corolla is made in 2012 & now its condition is Used\n"
     ]
    }
   ],
   "source": [
    "obj1.details()"
   ]
  },
  {
   "cell_type": "markdown",
   "id": "653a42ce",
   "metadata": {},
   "source": [
    "## FUNCTION"
   ]
  },
  {
   "cell_type": "code",
   "execution_count": 75,
   "id": "a345f428",
   "metadata": {},
   "outputs": [],
   "source": [
    "def addition(num1, num2=2):\n",
    "    return num1+num2"
   ]
  },
  {
   "cell_type": "code",
   "execution_count": 76,
   "id": "1bef6f09",
   "metadata": {},
   "outputs": [],
   "source": [
    "result = addition(2)"
   ]
  },
  {
   "cell_type": "code",
   "execution_count": 77,
   "id": "a5d67e6a",
   "metadata": {},
   "outputs": [
    {
     "data": {
      "text/plain": [
       "4"
      ]
     },
     "execution_count": 77,
     "metadata": {},
     "output_type": "execute_result"
    }
   ],
   "source": [
    "result"
   ]
  },
  {
   "cell_type": "code",
   "execution_count": 78,
   "id": "e7ad02aa",
   "metadata": {},
   "outputs": [
    {
     "name": "stdout",
     "output_type": "stream",
     "text": [
      "Odd\n"
     ]
    }
   ],
   "source": [
    "x = lambda a : \"Even\" if a%2==0 else \"Odd\"\n",
    "print(x(5))"
   ]
  },
  {
   "cell_type": "markdown",
   "id": "e91fde3d",
   "metadata": {},
   "source": [
    "## FILE HANDLING"
   ]
  },
  {
   "cell_type": "code",
   "execution_count": 80,
   "id": "b87fbb0e",
   "metadata": {},
   "outputs": [
    {
     "name": "stdout",
     "output_type": "stream",
     "text": [
      "re cap class\n"
     ]
    }
   ],
   "source": [
    "with open('./filehandling.txt', 'r') as file:\n",
    "    print(file.read())"
   ]
  }
 ],
 "metadata": {
  "kernelspec": {
   "display_name": "Python 3 (ipykernel)",
   "language": "python",
   "name": "python3"
  },
  "language_info": {
   "codemirror_mode": {
    "name": "ipython",
    "version": 3
   },
   "file_extension": ".py",
   "mimetype": "text/x-python",
   "name": "python",
   "nbconvert_exporter": "python",
   "pygments_lexer": "ipython3",
   "version": "3.11.5"
  }
 },
 "nbformat": 4,
 "nbformat_minor": 5
}
