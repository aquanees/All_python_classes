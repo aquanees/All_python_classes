{
 "cells": [
  {
   "cell_type": "code",
   "execution_count": 2,
   "id": "8059b3eb",
   "metadata": {},
   "outputs": [
    {
     "name": "stdout",
     "output_type": "stream",
     "text": [
      "Enter a number:5\n",
      "The Enter number is divide by 7.\n"
     ]
    }
   ],
   "source": [
    "number =int(input(\"Enter a number:\"))\n",
    "\n",
    "if number%5== 0:\n",
    "    print(\"The Enter number is divide by 7.\")\n",
    "else:\n",
    "    print(\"The Enter number is not divide by 7.\")"
   ]
  },
  {
   "cell_type": "code",
   "execution_count": null,
   "id": "29957752",
   "metadata": {},
   "outputs": [],
   "source": [
    "number = int(input(\"enter a number:\"))\n",
    "\n",
    "if number % 5==0:\n",
    "    print(\"hellow\")\n",
    "else:\n",
    "    print(\"bye\")"
   ]
  },
  {
   "cell_type": "code",
   "execution_count": null,
   "id": "75dc5e04",
   "metadata": {},
   "outputs": [],
   "source": [
    "number = int(input(\" Enetr The Number:\"))\n",
    "\n",
    "if number %2==0:\n",
    "    print(\"this number is even\")\n",
    "else:\n",
    "    print (\"this number is odd\")"
   ]
  },
  {
   "cell_type": "code",
   "execution_count": null,
   "id": "00586d00",
   "metadata": {},
   "outputs": [],
   "source": []
  },
  {
   "cell_type": "code",
   "execution_count": null,
   "id": "ff083491",
   "metadata": {},
   "outputs": [],
   "source": []
  }
 ],
 "metadata": {
  "kernelspec": {
   "display_name": "Python 3 (ipykernel)",
   "language": "python",
   "name": "python3"
  },
  "language_info": {
   "codemirror_mode": {
    "name": "ipython",
    "version": 3
   },
   "file_extension": ".py",
   "mimetype": "text/x-python",
   "name": "python",
   "nbconvert_exporter": "python",
   "pygments_lexer": "ipython3",
   "version": "3.11.5"
  }
 },
 "nbformat": 4,
 "nbformat_minor": 5
}
