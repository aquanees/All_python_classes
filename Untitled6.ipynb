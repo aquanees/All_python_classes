{
 "cells": [
  {
   "cell_type": "code",
   "execution_count": 1,
   "id": "4644c3d3",
   "metadata": {},
   "outputs": [],
   "source": [
    "data = {\"first_name\": 'Qasim',\n",
    "        \"last_name\": 'Hassan'}"
   ]
  },
  {
   "cell_type": "code",
   "execution_count": 5,
   "id": "f194fd8a",
   "metadata": {},
   "outputs": [],
   "source": [
    "data.update({\"first_name\":\"Ahsan\"})"
   ]
  },
  {
   "cell_type": "code",
   "execution_count": 6,
   "id": "2dff0bfd",
   "metadata": {},
   "outputs": [
    {
     "data": {
      "text/plain": [
       "{'first_name': 'Ahsan', 'last_name': 'Hassan'}"
      ]
     },
     "execution_count": 6,
     "metadata": {},
     "output_type": "execute_result"
    }
   ],
   "source": [
    "data"
   ]
  },
  {
   "cell_type": "code",
   "execution_count": 12,
   "id": "3adcc611",
   "metadata": {},
   "outputs": [],
   "source": [
    "data.update({\"middle_name\":\"ul\"})"
   ]
  },
  {
   "cell_type": "code",
   "execution_count": 13,
   "id": "0f5dbb8e",
   "metadata": {},
   "outputs": [],
   "source": [
    "class_1 = {\"subject\":\"chemistry\",\n",
    "          \"class\" : \"biochemistry\"}"
   ]
  },
  {
   "cell_type": "code",
   "execution_count": 14,
   "id": "a7bff792",
   "metadata": {},
   "outputs": [],
   "source": [
    "data.update({\"subject\":\"biology\"})"
   ]
  },
  {
   "cell_type": "code",
   "execution_count": 15,
   "id": "ff84d951",
   "metadata": {},
   "outputs": [
    {
     "data": {
      "text/plain": [
       "{'subject': 'chemistry', 'class': 'biochemistry'}"
      ]
     },
     "execution_count": 15,
     "metadata": {},
     "output_type": "execute_result"
    }
   ],
   "source": [
    "class_1"
   ]
  },
  {
   "cell_type": "code",
   "execution_count": 16,
   "id": "be617529",
   "metadata": {},
   "outputs": [
    {
     "data": {
      "text/plain": [
       "{'first_name': 'Ahsan',\n",
       " 'last_name': 'Hassan',\n",
       " 'subject': 'biology',\n",
       " 'middle_name': 'ul'}"
      ]
     },
     "execution_count": 16,
     "metadata": {},
     "output_type": "execute_result"
    }
   ],
   "source": [
    "data"
   ]
  },
  {
   "cell_type": "code",
   "execution_count": 17,
   "id": "766c0805",
   "metadata": {},
   "outputs": [],
   "source": [
    "customers = [\n",
    "    {\"customer id\": 0,\n",
    "     \"first name\":\"John\",\n",
    "     \"last name\": \"Ogden\",\n",
    "     \"address\": \"301 Arbor Rd.\",\n",
    "     \"discounts\": [\"standard\", \"volume\", \"loyalty\"],\n",
    "    },\n",
    "    {\"customer id\": 2,\n",
    "     \"first name\":\"Jill\",\n",
    "     \"last name\": \"Somers\",\n",
    "     \"address\": \"3 Main St.\",\n",
    "     \"discounts\":[]\n",
    "    },\n",
    "    {\n",
    "    \"customer id\": 1,\n",
    "    \"first name\":\"Ann\",\n",
    "    \"last name\": \"Sattermyer\",\n",
    "    \"address\": \"PO Box 1145\",\n",
    "    \"discounts\": [\"standard\"]\n",
    "}\n",
    "]"
   ]
  },
  {
   "cell_type": "code",
   "execution_count": 18,
   "id": "41a0d69c",
   "metadata": {},
   "outputs": [
    {
     "data": {
      "text/plain": [
       "['standard', 'volume', 'loyalty']"
      ]
     },
     "execution_count": 18,
     "metadata": {},
     "output_type": "execute_result"
    }
   ],
   "source": [
    "customers[0]['discounts']"
   ]
  },
  {
   "cell_type": "code",
   "execution_count": 19,
   "id": "71f37d27",
   "metadata": {},
   "outputs": [
    {
     "name": "stdout",
     "output_type": "stream",
     "text": [
      "customer at index 0 have discount = 3\n",
      "customer at index 1 have discount = 0\n",
      "customer at index 2 have discount = 1\n"
     ]
    }
   ],
   "source": [
    "for iterator in range(len(customers)):\n",
    "    print(f\"customer at index {iterator} have discount = {len(customers[iterator]['discounts'])}\")"
   ]
  },
  {
   "cell_type": "code",
   "execution_count": 20,
   "id": "a14e6599",
   "metadata": {},
   "outputs": [
    {
     "name": "stdout",
     "output_type": "stream",
     "text": [
      "[5, 10, 15]\n",
      "=====\n",
      "[]\n",
      "=====\n",
      "[5]\n",
      "=====\n"
     ]
    },
    {
     "data": {
      "text/plain": [
       "[{'customer id': 0,\n",
       "  'first name': 'John',\n",
       "  'last name': 'Ogden',\n",
       "  'address': '301 Arbor Rd.',\n",
       "  'discounts': ['standard', 'volume', 'loyalty'],\n",
       "  'discounted_percents': [5, 10, 15]},\n",
       " {'customer id': 2,\n",
       "  'first name': 'Jill',\n",
       "  'last name': 'Somers',\n",
       "  'address': '3 Main St.',\n",
       "  'discounts': [],\n",
       "  'discounted_percents': []},\n",
       " {'customer id': 1,\n",
       "  'first name': 'Ann',\n",
       "  'last name': 'Sattermyer',\n",
       "  'address': 'PO Box 1145',\n",
       "  'discounts': ['standard'],\n",
       "  'discounted_percents': [5]}]"
      ]
     },
     "execution_count": 20,
     "metadata": {},
     "output_type": "execute_result"
    }
   ],
   "source": [
    "for customer in customers:\n",
    "    discounted_percents = []\n",
    "    if len(customer['discounts']) >= 1:\n",
    "        for discount in customer['discounts']:\n",
    "            if discount == 'standard':\n",
    "                discounted_percent = 5\n",
    "            elif discount == 'volume':\n",
    "                discounted_percent = 10\n",
    "            elif discount == 'loyalty':\n",
    "                discounted_percent = 15\n",
    "            else:\n",
    "                discounted_percent = 'ERROR'\n",
    "            discounted_percents.append(discounted_percent)\n",
    "    print(discounted_percents)\n",
    "    customer.update({'discounted_percents': discounted_percents})\n",
    "    print('=====')\n",
    "\n",
    "customers"
   ]
  },
  {
   "cell_type": "raw",
   "id": "899caf87",
   "metadata": {},
   "source": [
    "for customer in customers:\n",
    "    discounted_percents = []\n",
    "    if len(customer['discounts']) >= 1:\n",
    "        for discount in customer['discounts']:\n",
    "            if discount == 'standard':\n",
    "                discounted_percent = 5\n",
    "            elif discount == 'volume':\n",
    "                discounted_percent = 10\n",
    "            elif discount == 'loyalty':\n",
    "                discounted_percent = 15\n",
    "            else:\n",
    "                discounted_percent = 'ERROR'\n",
    "            discounted_percents.append(discounted_percent)\n",
    "    print(discounted_percents)\n",
    "    customer.update({'discounted_percents': discounted_percents})\n",
    "    print('=====')\n",
    "\n",
    "customers"
   ]
  },
  {
   "cell_type": "code",
   "execution_count": 22,
   "id": "18eb88f2",
   "metadata": {},
   "outputs": [
    {
     "ename": "TypeError",
     "evalue": "string indices must be integers, not 'str'",
     "output_type": "error",
     "traceback": [
      "\u001b[1;31m---------------------------------------------------------------------------\u001b[0m",
      "\u001b[1;31mTypeError\u001b[0m                                 Traceback (most recent call last)",
      "Cell \u001b[1;32mIn[22], line 3\u001b[0m\n\u001b[0;32m      1\u001b[0m \u001b[38;5;28;01mfor\u001b[39;00m customer \u001b[38;5;129;01min\u001b[39;00m customer:\n\u001b[0;32m      2\u001b[0m     discounted_percent \u001b[38;5;241m=\u001b[39m []\n\u001b[1;32m----> 3\u001b[0m     \u001b[38;5;28;01mif\u001b[39;00m \u001b[38;5;28mlen\u001b[39m(customer[\u001b[38;5;124m'\u001b[39m\u001b[38;5;124mdiscounts\u001b[39m\u001b[38;5;124m'\u001b[39m]) \u001b[38;5;241m>\u001b[39m\u001b[38;5;241m=\u001b[39m \u001b[38;5;241m1\u001b[39m:\n\u001b[0;32m      4\u001b[0m         \u001b[38;5;28;01mfor\u001b[39;00m discount \u001b[38;5;129;01min\u001b[39;00m customer [\u001b[38;5;124m'\u001b[39m\u001b[38;5;124mdiscounts\u001b[39m\u001b[38;5;124m'\u001b[39m]:\n\u001b[0;32m      5\u001b[0m             \u001b[38;5;28;01mif\u001b[39;00m discount \u001b[38;5;241m==\u001b[39m customer [\u001b[38;5;124m'\u001b[39m\u001b[38;5;124mdiscounts\u001b[39m\u001b[38;5;124m'\u001b[39m]:\n",
      "\u001b[1;31mTypeError\u001b[0m: string indices must be integers, not 'str'"
     ]
    }
   ],
   "source": [
    "for customer in customer:\n",
    "    discounted_percent = []\n",
    "    if len(customer['discounts']) >= 1:\n",
    "        for discount in customer ['discounts']:\n",
    "            if discount == customer ['discounts']:\n",
    "                discounted_percent = 5\n",
    "            elif discount == 'volume':\n",
    "                discounted_percent = 10\n",
    "            elif dsicount == 'loyality':\n",
    "                discounted_percent = 15\n",
    "            else:\n",
    "                discounted_percent = 'error'\n",
    "            discounted_percents.append(discounted_percent)\n",
    "            print(dsicounted_percent)\n",
    "            customer.update({'discounted_percent': discounted_percent})\n",
    "            print('=========================')\n",
    "customers"
   ]
  },
  {
   "cell_type": "code",
   "execution_count": null,
   "id": "631a29b1",
   "metadata": {},
   "outputs": [],
   "source": []
  }
 ],
 "metadata": {
  "kernelspec": {
   "display_name": "Python 3 (ipykernel)",
   "language": "python",
   "name": "python3"
  },
  "language_info": {
   "codemirror_mode": {
    "name": "ipython",
    "version": 3
   },
   "file_extension": ".py",
   "mimetype": "text/x-python",
   "name": "python",
   "nbconvert_exporter": "python",
   "pygments_lexer": "ipython3",
   "version": "3.11.5"
  }
 },
 "nbformat": 4,
 "nbformat_minor": 5
}
