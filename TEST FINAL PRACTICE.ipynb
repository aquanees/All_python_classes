{
 "cells": [
  {
   "cell_type": "raw",
   "id": "6860b5df",
   "metadata": {},
   "source": [
    "class Employee():\n",
    "    \n",
    "    def __init__(self, name, organization):\n",
    "        self.name = name\n",
    "        self.organization = organization\n",
    "    \n",
    "    def print_details(self):\n",
    "        print(f\"Employe name is {self.name} & organziation is {self.organization}\")\n",
    "\n",
    "class Desginer(Employee):\n",
    "    def __init__(self, name, organization, title):\n",
    "        super().__init__(name, organization)\n",
    "        self.title = title\n",
    "\n",
    "class Developer(Employee):\n",
    "    def __init__(self, title, name, organization):\n",
    "        super().__init__(name, organization)\n",
    "        self.title = title\n",
    "        self.programming_skills = [\"python\"]"
   ]
  },
  {
   "cell_type": "code",
   "execution_count": 4,
   "id": "1da303a3",
   "metadata": {},
   "outputs": [
    {
     "ename": "NameError",
     "evalue": "name 'Empolyee' is not defined",
     "output_type": "error",
     "traceback": [
      "\u001b[1;31m---------------------------------------------------------------------------\u001b[0m",
      "\u001b[1;31mNameError\u001b[0m                                 Traceback (most recent call last)",
      "Cell \u001b[1;32mIn[4], line 9\u001b[0m\n\u001b[0;32m      6\u001b[0m     \u001b[38;5;28;01mdef\u001b[39;00m \u001b[38;5;21mprint_details\u001b[39m(\u001b[38;5;28mself\u001b[39m):\n\u001b[0;32m      7\u001b[0m         \u001b[38;5;28mprint\u001b[39m(\u001b[38;5;124mf\u001b[39m\u001b[38;5;124m\"\u001b[39m\u001b[38;5;124mEmploye name is \u001b[39m\u001b[38;5;132;01m{\u001b[39;00m\u001b[38;5;28mself\u001b[39m\u001b[38;5;241m.\u001b[39mname\u001b[38;5;132;01m}\u001b[39;00m\u001b[38;5;124m & organziation is \u001b[39m\u001b[38;5;132;01m{\u001b[39;00m\u001b[38;5;28mself\u001b[39m\u001b[38;5;241m.\u001b[39morganization\u001b[38;5;132;01m}\u001b[39;00m\u001b[38;5;124m\"\u001b[39m)   \n\u001b[1;32m----> 9\u001b[0m \u001b[38;5;28;01mclass\u001b[39;00m \u001b[38;5;21;01mHospital\u001b[39;00m(Empolyee):\n\u001b[0;32m     10\u001b[0m     \u001b[38;5;28;01mdef\u001b[39;00m \u001b[38;5;21m__init__\u001b[39m(\u001b[38;5;28mself\u001b[39m,name, department, No_of_staff):\n\u001b[0;32m     11\u001b[0m         \u001b[38;5;28msuper\u001b[39m()\u001b[38;5;241m.\u001b[39m\u001b[38;5;21m__init__\u001b[39m(name, department)\n",
      "\u001b[1;31mNameError\u001b[0m: name 'Empolyee' is not defined"
     ]
    }
   ],
   "source": [
    "class Employee():\n",
    "    def __init__ (self, name, organization):\n",
    "         self.name = name \n",
    "         self.organization = organization\n",
    "        \n",
    "    def print_details(self):\n",
    "        print(f\"Employe name is {self.name} & organziation is {self.organization}\")   \n",
    "    \n",
    "class Hospital(Empolyee):\n",
    "    def __init__(self,name, department, No_of_staff):\n",
    "        super().__init__(name, department)\n",
    "        self.no_of_staff = no_of_staff\n",
    "        \n",
    "class developer(Empolyee):\n",
    "    def __init__(self,title, name, organization):\n",
    "        super().__init__(name, organization)\n",
    "        self.title = title\n",
    "        self.programming_skills = [\"phyton\"]\n",
    "    "
   ]
  },
  {
   "cell_type": "code",
   "execution_count": 5,
   "id": "e2ce64fa",
   "metadata": {},
   "outputs": [],
   "source": [
    "class Employee:\n",
    "    def __init__(self, name, organization):\n",
    "        self.name = name\n",
    "        self.organization = organization\n",
    "        \n",
    "    def print_details(self):\n",
    "        print(f\"Employe name is {self.name} & organziation is {self.organization}\")    \n",
    "    \n",
    "class Hospital(Employee):\n",
    "    def __init__(self, name, department, no_of_staff):\n",
    "        super().__init__(name, department)\n",
    "        self.no_of_staff = no_of_staff\n",
    "        \n",
    "class Developer(Employee):\n",
    "    def __init__(self, title, name, organization):\n",
    "        super().__init__(name, organization)\n",
    "        self.title = title\n",
    "        self.programming_skills = [\"python\"]"
   ]
  },
  {
   "cell_type": "code",
   "execution_count": 9,
   "id": "00f4da5e",
   "metadata": {},
   "outputs": [],
   "source": [
    "Hospital = Hospital(\"anees\", \"neurology\",  67)"
   ]
  },
  {
   "cell_type": "code",
   "execution_count": 10,
   "id": "6fdc3c2f",
   "metadata": {},
   "outputs": [
    {
     "name": "stdout",
     "output_type": "stream",
     "text": [
      "anees\n"
     ]
    },
    {
     "ename": "AttributeError",
     "evalue": "'Hospital' object has no attribute 'department'",
     "output_type": "error",
     "traceback": [
      "\u001b[1;31m---------------------------------------------------------------------------\u001b[0m",
      "\u001b[1;31mAttributeError\u001b[0m                            Traceback (most recent call last)",
      "Cell \u001b[1;32mIn[10], line 2\u001b[0m\n\u001b[0;32m      1\u001b[0m \u001b[38;5;28mprint\u001b[39m(Hospital\u001b[38;5;241m.\u001b[39mname)\n\u001b[1;32m----> 2\u001b[0m \u001b[38;5;28mprint\u001b[39m(Hospital\u001b[38;5;241m.\u001b[39mdepartment)\n\u001b[0;32m      3\u001b[0m \u001b[38;5;28mprint\u001b[39m(Hospital\u001b[38;5;241m.\u001b[39mno_of_staff)\n\u001b[0;32m      4\u001b[0m Hospital\u001b[38;5;241m.\u001b[39mprint_details()\n",
      "\u001b[1;31mAttributeError\u001b[0m: 'Hospital' object has no attribute 'department'"
     ]
    }
   ],
   "source": [
    "print(Hospital.name)\n",
    "print(Hospital.department)\n",
    "print(Hospital.no_of_staff)\n",
    "Hospital.print_details()"
   ]
  },
  {
   "cell_type": "code",
   "execution_count": 11,
   "id": "6f682d5c",
   "metadata": {},
   "outputs": [],
   "source": [
    "developer = Developer('Data Engineer', 'Qasim', 'RC')"
   ]
  },
  {
   "cell_type": "code",
   "execution_count": 12,
   "id": "1b4a4449",
   "metadata": {},
   "outputs": [
    {
     "name": "stdout",
     "output_type": "stream",
     "text": [
      "Qasim\n",
      "RC\n",
      "Data Engineer\n",
      "['python']\n",
      "Employe name is Qasim & organziation is RC\n"
     ]
    }
   ],
   "source": [
    "print(developer.name)\n",
    "print(developer.organization)\n",
    "print(developer.title)\n",
    "print(developer.programming_skills)\n",
    "developer.print_details()"
   ]
  },
  {
   "cell_type": "raw",
   "id": "a9f9cfaa",
   "metadata": {},
   "source": [
    "class Mother:\n",
    "    def __init__(self,name):\n",
    "        self.name = name\n",
    "        self.eye_color = \"blue\"\n",
    "    \n",
    "    def speaking(self, words):\n",
    "        return f\"Monther Speaking function: {words}\"\n",
    "\n",
    "class Father:\n",
    "    def __init__(self, name):\n",
    "        self.name = name\n",
    "        self.height = \"6 Feet\"\n",
    "\n",
    "    def speaking(self, words):\n",
    "        return f\"Father Speaking function: {words}\"\n",
    "\n",
    "class Child(Father, Mother):\n",
    "    \n",
    "    def __init__(self, father_name, mother_name, child_name):\n",
    "        Father.__init__(self, father_name)\n",
    "        Mother.__init__(self, mother_name)\n",
    "        self.child_name = child_name\n",
    "        \n",
    "\n",
    "qasim= Child(\"Hassan Khan\", \"Bakth Un Nissa\",\"Qasim Hassan\")\n",
    "\n",
    "print(f\"object height {qasim.height}\")\n",
    "print(f\"object eye color {qasim.eye_color}\")\n",
    "print(qasim.speaking(\"Pakistan zinda bad\"))"
   ]
  },
  {
   "cell_type": "code",
   "execution_count": 14,
   "id": "6d65f14d",
   "metadata": {},
   "outputs": [
    {
     "name": "stdout",
     "output_type": "stream",
     "text": [
      " object heigt 6 feet\n",
      "object eye color blue\n"
     ]
    },
    {
     "ename": "NameError",
     "evalue": "name 'word' is not defined",
     "output_type": "error",
     "traceback": [
      "\u001b[1;31m---------------------------------------------------------------------------\u001b[0m",
      "\u001b[1;31mNameError\u001b[0m                                 Traceback (most recent call last)",
      "Cell \u001b[1;32mIn[14], line 27\u001b[0m\n\u001b[0;32m     25\u001b[0m \u001b[38;5;28mprint\u001b[39m(\u001b[38;5;124mf\u001b[39m\u001b[38;5;124m\"\u001b[39m\u001b[38;5;124m object heigt \u001b[39m\u001b[38;5;132;01m{\u001b[39;00manees\u001b[38;5;241m.\u001b[39mheight\u001b[38;5;132;01m}\u001b[39;00m\u001b[38;5;124m\"\u001b[39m)\n\u001b[0;32m     26\u001b[0m \u001b[38;5;28mprint\u001b[39m(\u001b[38;5;124mf\u001b[39m\u001b[38;5;124m\"\u001b[39m\u001b[38;5;124mobject eye color \u001b[39m\u001b[38;5;132;01m{\u001b[39;00manees\u001b[38;5;241m.\u001b[39meye_color\u001b[38;5;132;01m}\u001b[39;00m\u001b[38;5;124m\"\u001b[39m)\n\u001b[1;32m---> 27\u001b[0m \u001b[38;5;28mprint\u001b[39m(anees\u001b[38;5;241m.\u001b[39mspeaking(\u001b[38;5;124m\"\u001b[39m\u001b[38;5;124murdu\u001b[39m\u001b[38;5;124m\"\u001b[39m))\n",
      "Cell \u001b[1;32mIn[14], line 14\u001b[0m, in \u001b[0;36mFather.speaking\u001b[1;34m(self, words)\u001b[0m\n\u001b[0;32m     13\u001b[0m \u001b[38;5;28;01mdef\u001b[39;00m \u001b[38;5;21mspeaking\u001b[39m(\u001b[38;5;28mself\u001b[39m, words):\n\u001b[1;32m---> 14\u001b[0m     \u001b[38;5;28;01mreturn\u001b[39;00m \u001b[38;5;124mf\u001b[39m\u001b[38;5;124m\"\u001b[39m\u001b[38;5;124m Father speaking function: \u001b[39m\u001b[38;5;132;01m{\u001b[39;00mword\u001b[38;5;132;01m}\u001b[39;00m\u001b[38;5;124m\"\u001b[39m\n",
      "\u001b[1;31mNameError\u001b[0m: name 'word' is not defined"
     ]
    }
   ],
   "source": [
    "class Mother:\n",
    "    def __init__(self,name):\n",
    "        self.name = name\n",
    "        self.eye_color = \"blue\"\n",
    "    def speaking(self, word):\n",
    "        return f\"Mother is speaking function: {word}\"\n",
    "    \n",
    "class Father:\n",
    "    def __init__(self,name):\n",
    "        self.name = name\n",
    "        self.height = \"6 feet\"\n",
    "        \n",
    "    def speaking(self, words):\n",
    "        return f\" Father speaking function: {word}\"\n",
    "    \n",
    "class child(Father, Mother):\n",
    "    \n",
    "    def __init__(self, father_name, mother_name, child_name):\n",
    "        Father.__init__(self, father_name)\n",
    "        Mother.__init__(self, father_name)\n",
    "        self.child_name = child_name\n",
    "        \n",
    "anees = child(\"sharif khan\", \"Yasmeen begum\", \"muhammad anees\")\n",
    "\n",
    "print(f\" object heigt {anees.height}\")\n",
    "print(f\"object eye color {anees.eye_color}\")\n",
    "print(anees.speaking(\"urdu\"))\n",
    "        \n",
    "        \n",
    "\n",
    "    \n",
    "    "
   ]
  },
  {
   "cell_type": "code",
   "execution_count": 15,
   "id": "2cf5660c",
   "metadata": {},
   "outputs": [
    {
     "name": "stdout",
     "output_type": "stream",
     "text": [
      "Object height: 6 feet\n",
      "Object eye color: blue\n",
      "Father speaking function: Urdu\n"
     ]
    }
   ],
   "source": [
    "class Mother:\n",
    "    def __init__(self, name):\n",
    "        self.name = name\n",
    "        self.eye_color = \"blue\"\n",
    "    \n",
    "    def speaking(self, word):\n",
    "        return f\"Mother is speaking function: {word}\"\n",
    "\n",
    "class Father:\n",
    "    def __init__(self, name):\n",
    "        self.name = name\n",
    "        self.height = \"6 feet\"\n",
    "        \n",
    "    def speaking(self, words):\n",
    "        return f\"Father speaking function: {words}\"\n",
    "\n",
    "class Child(Father, Mother):\n",
    "    def __init__(self, father_name, mother_name, child_name):\n",
    "        Father.__init__(self, father_name)\n",
    "        Mother.__init__(self, mother_name)\n",
    "        self.child_name = child_name\n",
    "\n",
    "anees = Child(\"Sharif Khan\", \"Yasmeen Begum\", \"Muhammad Anees\")\n",
    "\n",
    "print(f\"Object height: {anees.height}\")\n",
    "print(f\"Object eye color: {anees.eye_color}\")\n",
    "print(anees.speaking(\"Urdu\"))\n"
   ]
  },
  {
   "cell_type": "code",
   "execution_count": 16,
   "id": "9aa5fd21",
   "metadata": {},
   "outputs": [
    {
     "ename": "SyntaxError",
     "evalue": "unterminated string literal (detected at line 27) (275829961.py, line 27)",
     "output_type": "error",
     "traceback": [
      "\u001b[1;36m  Cell \u001b[1;32mIn[16], line 27\u001b[1;36m\u001b[0m\n\u001b[1;33m    return f\"Saylani Bloach Class - Duration: {self.duration}, Schedule: {self.schedule}, Organization: {self.organization}, Capacity for Females: {self.capacity\u001b[0m\n\u001b[1;37m           ^\u001b[0m\n\u001b[1;31mSyntaxError\u001b[0m\u001b[1;31m:\u001b[0m unterminated string literal (detected at line 27)\n"
     ]
    }
   ],
   "source": [
    "class SaylaniClass:\n",
    "    def __init__(self, duration, schedule, organization):\n",
    "        self.duration = duration\n",
    "        self.schedule = schedule\n",
    "        self.organization = organization\n",
    "\n",
    "class SaylaniBahadurabad(SaylaniClass):\n",
    "    def __init__(self, duration, schedule, organization):\n",
    "        super().__init__(duration, schedule, organization)\n",
    "    \n",
    "    def get_info(self):\n",
    "        return f\"Saylani Bahadurabad Class - Duration: {self.duration}, Schedule: {self.schedule}, Organization: {self.organization}\"\n",
    "\n",
    "class SaylaniGulshan(SaylaniClass):\n",
    "    def __init__(self, duration, schedule, organization):\n",
    "        super().__init__(duration, schedule, organization)\n",
    "    \n",
    "    def get_info(self):\n",
    "        return f\"Saylani Gulshan Class - Duration: {self.duration}, Schedule: {self.schedule}, Organization: {self.organization}\"\n",
    "\n",
    "class SaylaniBloach(SaylaniBahadurabad, SaylaniGulshan):\n",
    "    def __init__(self, duration, schedule, organization, capacity_for_females):\n",
    "        super().__init__(duration, schedule, organization)\n",
    "        self.capacity_for_females = capacity_for_females\n",
    "\n",
    "    def get_info(self):\n",
    "        return f\"Saylani Bloach Class - Duration: {self.duration}, Schedule: {self.schedule}, Organization: {self.organization}, Capacity for Females: {self.capacity\n"
   ]
  },
  {
   "cell_type": "code",
   "execution_count": 17,
   "id": "20bb2c48",
   "metadata": {},
   "outputs": [
    {
     "name": "stdout",
     "output_type": "stream",
     "text": [
      "Saylani Bahadurabad Class - Duration: 6 months, Schedule: Evening, Organization: Saylani Trust\n",
      "Saylani Gulshan Class - Duration: 3 months, Schedule: Morning, Organization: Saylani Trust\n",
      "Saylani Bloach Class - Duration: 4 months, Schedule: Afternoon, Organization: Saylani Trust, Capacity for Females: 50\n"
     ]
    }
   ],
   "source": [
    "class SaylaniClass:\n",
    "    def __init__(self, duration, schedule, organization):\n",
    "        self.duration = duration\n",
    "        self.schedule = schedule\n",
    "        self.organization = organization\n",
    "\n",
    "class SaylaniBahadurabad(SaylaniClass):\n",
    "    def __init__(self, duration, schedule, organization):\n",
    "        super().__init__(duration, schedule, organization)\n",
    "    \n",
    "    def get_info(self):\n",
    "        return f\"Saylani Bahadurabad Class - Duration: {self.duration}, Schedule: {self.schedule}, Organization: {self.organization}\"\n",
    "\n",
    "class SaylaniGulshan(SaylaniClass):\n",
    "    def __init__(self, duration, schedule, organization):\n",
    "        super().__init__(duration, schedule, organization)\n",
    "    \n",
    "    def get_info(self):\n",
    "        return f\"Saylani Gulshan Class - Duration: {self.duration}, Schedule: {self.schedule}, Organization: {self.organization}\"\n",
    "\n",
    "class SaylaniBloach(SaylaniBahadurabad, SaylaniGulshan):\n",
    "    def __init__(self, duration, schedule, organization, capacity_for_females):\n",
    "        super().__init__(duration, schedule, organization)\n",
    "        self.capacity_for_females = capacity_for_females\n",
    "\n",
    "    def get_info(self):\n",
    "        return f\"Saylani Bloach Class - Duration: {self.duration}, Schedule: {self.schedule}, Organization: {self.organization}, Capacity for Females: {self.capacity_for_females}\"\n",
    "\n",
    "# Example usage\n",
    "bahadurabad_class = SaylaniBahadurabad(\"6 months\", \"Evening\", \"Saylani Trust\")\n",
    "gulshan_class = SaylaniGulshan(\"3 months\", \"Morning\", \"Saylani Trust\")\n",
    "bloach_class = SaylaniBloach(\"4 months\", \"Afternoon\", \"Saylani Trust\", \"50\")\n",
    "\n",
    "print(bahadurabad_class.get_info())\n",
    "print(gulshan_class.get_info())\n",
    "print(bloach_class.get_info())\n"
   ]
  },
  {
   "cell_type": "code",
   "execution_count": 18,
   "id": "331f3310",
   "metadata": {},
   "outputs": [],
   "source": [
    "class Saylani_Bahadurabad:\n",
    "    \n",
    "    def __init__(self, duration_bha, schedule_bha):\n",
    "        self.name_bha = \"Web Development\" # static varibale\n",
    "        self.duration_bha = duration_bha\n",
    "        self.schedule_bha = schedule_bha\n",
    "    \n",
    "    #method    \n",
    "    def get_info_bah(self):\n",
    "        print(f\"Course {self.name_bha}, duration {self.duration_bha}, schedule {self.schedule_bha}\")\n",
    "        \n",
    "class Saylani_Gulshan:\n",
    "    \n",
    "    def __init__(self, duration_gul, schedule_gul):\n",
    "        self.name_gul = \"Python programming\"\n",
    "        self.duration_gul = duration_gul\n",
    "        self.schedule_gul = schedule_gul\n",
    "    \n",
    "    def get_info_gul(self):\n",
    "        print(f\"Course {self.name_gul}, duration {self.duration_gul}, schedule {self.schedule_gul}\")\n",
    "        \n",
    "class Saylani_Bloach(Saylani_Bahadurabad, Saylani_Gulshan):\n",
    "    \n",
    "    def __init__(self,duration_bha, schedule_bha,\n",
    "                 duration_gul, schedule_gul,\n",
    "                 duration_bal, schedule_bal,\n",
    "                 capacity_of_female):\n",
    "        # super().__init__(duration, schedule) # first parent => Saylani_Bahadurabad\n",
    "        Saylani_Bahadurabad.__init__(self, duration_bha, schedule_bha)\n",
    "        Saylani_Gulshan.__init__(self, duration_gul, schedule_gul)\n",
    "        \n",
    "        self.name_bal = 'AWS'\n",
    "        self.duration_bal = duration_bal\n",
    "        self.schedule_bal = schedule_bal\n",
    "        self.capacity_of_female = capacity_of_female\n",
    "        \n",
    "    def get_info(self):\n",
    "        print(f\"Course {self.name_bal}, duration {self.duration_bal}, schedule {self.schedule_bal} and also have capacity for female {self.capacity_of_female}\")"
   ]
  },
  {
   "cell_type": "code",
   "execution_count": 19,
   "id": "9979c757",
   "metadata": {},
   "outputs": [],
   "source": [
    "saylani_bloach= Saylani_Bloach(\"2 Months\", \"9am to 11am\",\n",
    "                               \"4 Moths\", '12pm to 3pm',\n",
    "                               \"1 Months\", '4pm to 5pm',\n",
    "                               'Yes')"
   ]
  },
  {
   "cell_type": "code",
   "execution_count": 20,
   "id": "3d67aba5",
   "metadata": {},
   "outputs": [
    {
     "name": "stdout",
     "output_type": "stream",
     "text": [
      "Course AWS, duration 1 Months, schedule 4pm to 5pm and also have capacity for female Yes\n"
     ]
    }
   ],
   "source": [
    "saylani_bloach.get_info()"
   ]
  },
  {
   "cell_type": "code",
   "execution_count": 21,
   "id": "f98bd417",
   "metadata": {},
   "outputs": [
    {
     "name": "stdout",
     "output_type": "stream",
     "text": [
      "Course Web Development, duration 2 Months, schedule 9am to 11am\n"
     ]
    }
   ],
   "source": [
    "saylani_bloach.get_info_bah()"
   ]
  },
  {
   "cell_type": "code",
   "execution_count": 23,
   "id": "90ce2ca5",
   "metadata": {},
   "outputs": [
    {
     "name": "stdout",
     "output_type": "stream",
     "text": [
      "Course Python programming, duration 4 Moths, schedule 12pm to 3pm\n"
     ]
    }
   ],
   "source": [
    "saylani_bloach.get_info_gul()"
   ]
  },
  {
   "cell_type": "code",
   "execution_count": 24,
   "id": "1cbc1c5b",
   "metadata": {},
   "outputs": [
    {
     "name": "stdout",
     "output_type": "stream",
     "text": [
      "Course AWS, duration 1 Months, schedule 4pm to 5pm and also have capacity for female Yes\n"
     ]
    },
    {
     "ename": "AttributeError",
     "evalue": "'Saylani_Bloach' object has no attribute 'name'",
     "output_type": "error",
     "traceback": [
      "\u001b[1;31m---------------------------------------------------------------------------\u001b[0m",
      "\u001b[1;31mAttributeError\u001b[0m                            Traceback (most recent call last)",
      "Cell \u001b[1;32mIn[24], line 3\u001b[0m\n\u001b[0;32m      1\u001b[0m saylani_bloach\u001b[38;5;241m.\u001b[39mget_info()\n\u001b[1;32m----> 3\u001b[0m \u001b[38;5;28mprint\u001b[39m(saylani_bloach\u001b[38;5;241m.\u001b[39mname)\n",
      "\u001b[1;31mAttributeError\u001b[0m: 'Saylani_Bloach' object has no attribute 'name'"
     ]
    }
   ],
   "source": [
    "saylani_bloach.get_info()\n",
    "\n",
    "print(saylani_bloach.name)"
   ]
  },
  {
   "cell_type": "code",
   "execution_count": null,
   "id": "e4172af7",
   "metadata": {},
   "outputs": [],
   "source": [
    "class jpmc:\n",
    "    \n",
    "    def __init__(self,patient_of_jpmc, doctor_of_jpmc):\n",
    "        self.name_jpmc = 'for whole sindh nation'\n",
    "        self.patient_of_jpmc = patient_of_jpmc\n",
    "        self.doctor_of_jpmc = doctor_of_jpmc\n",
    "    \n",
    "    def get_info_jpmc(self):\n",
    "        print(f\"hospital{self.name_jpmc}, patient {patient_of_jpmc} doctor{self.doctor_of_jpmc}\")\n",
    "        \n",
    "class civil:\n",
    "    \n",
    "     def __init__(self,patient_of_civil, doctor_of_civil):\n",
    "        self.name_civil = 'for whole karachi nation'\n",
    "        self.patient_of_civil = patient_of_civil\n",
    "        self.doctor_of_civil = doctor_of_civil\n",
    "    \n",
    "    def get_info_civil(self):\n",
    "        print(f\"hospital{self.name_civil}, patient {patient_of_civil} doctor{self.doctor_of_civil}\")\n",
    "        \n",
    "class sgh:\n",
    "    \n",
    "    \n",
    "        \n"
   ]
  },
  {
   "cell_type": "raw",
   "id": "16d75959",
   "metadata": {},
   "source": [
    "class Saylani_Bahadurabad:\n",
    "    \n",
    "    def __init__(self, duration_bha, schedule_bha):\n",
    "        self.name_bha = \"Web Development\" # static varibale\n",
    "        self.duration_bha = duration_bha\n",
    "        self.schedule_bha = schedule_bha\n",
    "    \n",
    "    #method    \n",
    "    def get_info_bah(self):\n",
    "        print(f\"Course {self.name_bha}, duration {self.duration_bha}, schedule {self.schedule_bha}\")\n",
    "        \n",
    "class Saylani_Gulshan:\n",
    "    \n",
    "    def __init__(self, duration_gul, schedule_gul):\n",
    "        self.name_gul = \"Python programming\"\n",
    "        self.duration_gul = duration_gul\n",
    "        self.schedule_gul = schedule_gul\n",
    "    \n",
    "    def get_info_gul(self):\n",
    "        print(f\"Course {self.name_gul}, duration {self.duration_gul}, schedule {self.schedule_gul}\")\n",
    "        \n",
    "class Saylani_Bloach(Saylani_Bahadurabad, Saylani_Gulshan):\n",
    "    \n",
    "    def __init__(self,duration_bha, schedule_bha,\n",
    "                 duration_gul, schedule_gul,\n",
    "                 duration_bal, schedule_bal,\n",
    "                 capacity_of_female):\n",
    "        # super().__init__(duration, schedule) # first parent => Saylani_Bahadurabad\n",
    "        Saylani_Bahadurabad.__init__(self, duration_bha, schedule_bha)\n",
    "        Saylani_Gulshan.__init__(self, duration_gul, schedule_gul)\n",
    "        \n",
    "        self.name_bal = 'AWS'\n",
    "        self.duration_bal = duration_bal\n",
    "        self.schedule_bal = schedule_bal\n",
    "        self.capacity_of_female = capacity_of_female\n",
    "        \n",
    "    def get_info(self):\n",
    "        print(f\"Course {self.name_bal}, duration {self.duration_bal}, schedule {self.schedule_bal} and also have capacity for female {self.capacity_of_female}\")"
   ]
  },
  {
   "cell_type": "code",
   "execution_count": 26,
   "id": "bcecf812",
   "metadata": {},
   "outputs": [
    {
     "ename": "IndentationError",
     "evalue": "unindent does not match any outer indentation level (<tokenize>, line 18)",
     "output_type": "error",
     "traceback": [
      "\u001b[1;36m  File \u001b[1;32m<tokenize>:18\u001b[1;36m\u001b[0m\n\u001b[1;33m    def get_info_civil(self):\u001b[0m\n\u001b[1;37m    ^\u001b[0m\n\u001b[1;31mIndentationError\u001b[0m\u001b[1;31m:\u001b[0m unindent does not match any outer indentation level\n"
     ]
    }
   ],
   "source": [
    "class jpmc:\n",
    "    \n",
    "    def __init__(self,patient_of_jpmc, doctor_of_jpmc):\n",
    "        self.name_jpmc = 'for whole sindh nation'\n",
    "        self.patient_of_jpmc = patient_of_jpmc\n",
    "        self.doctor_of_jpmc = patient_of_jpmc\n",
    "    \n",
    "    def get_info_jpmc(self):\n",
    "        print(f\"hospital{self.name_jpmc}, patient {patient_of_jpmc} doctor{self.doctor_of_jpmc}\")\n",
    "        \n",
    "class civil:\n",
    "    \n",
    "     def __init__(self,patient_of_civil, doctor_of_civil):\n",
    "        self.name_civil = 'for whole karachi nation'\n",
    "        self.patient_of_civil = patient_of_civil\n",
    "        self.doctor_of_civil = doctor_of_civil\n",
    "    \n",
    "    def get_info_civil(self):\n",
    "        print(f\"hospital{self.name_civil}, patient {patient_of_civil} doctor{self.doctor_of_civil}\")\n",
    "        \n",
    "class sgh (jpmc , civil):\n",
    "    def __init__(self,patient_of_jpmc,doctor_of_jpmc\n",
    "                patient_of_civil,doctor_of_civil\n",
    "                patient_of_sgh,doctor_of_sgh\n",
    "                capicity_of_punjab_pat):\n",
    "        \n",
    "        jpmc.__init__(self,patient_of_jpmc, doctor_of_jpmc)\n",
    "        civil.__init__(self,patient_of_civil,doctor_of_civil)\n",
    "        \n",
    "        self.name_sgh = 'for just karachi'\n",
    "        self.patient_of_sgh = patient_of_sgh\n",
    "        self.doctor_of_sgh = patient_of_sgh\n",
    "        self.capacity_of_punjab_pat = capacity_of_punjab_pat\n",
    "        \n",
    "        \n",
    "    def get_info_sgh(self):\n",
    "        print(f\"hospital{self.name_sgh}, patient {patient_of_sgh} doctor{self.doctor_of_sgh} and also have capacity for punjab patients {self.capacity_of_punjab_pat}\")\n",
    "              \n",
    "    \n",
    "        "
   ]
  },
  {
   "cell_type": "code",
   "execution_count": 27,
   "id": "5fde6c98",
   "metadata": {},
   "outputs": [],
   "source": [
    "class JPMC:\n",
    "    def __init__(self, patient_of_jpmc, doctor_of_jpmc):\n",
    "        self.name_jpmc = 'for whole Sindh nation'\n",
    "        self.patient_of_jpmc = patient_of_jpmc\n",
    "        self.doctor_of_jpmc = doctor_of_jpmc\n",
    "    \n",
    "    def get_info_jpmc(self):\n",
    "        print(f\"Hospital: {self.name_jpmc}, Patients: {self.patient_of_jpmc}, Doctors: {self.doctor_of_jpmc}\")\n",
    "\n",
    "class Civil:\n",
    "    def __init__(self, patient_of_civil, doctor_of_civil):\n",
    "        self.name_civil = 'for whole Karachi nation'\n",
    "        self.patient_of_civil = patient_of_civil\n",
    "        self.doctor_of_civil = doctor_of_civil\n",
    "    \n",
    "    def get_info_civil(self):\n",
    "        print(f\"Hospital: {self.name_civil}, Patients: {self.patient_of_civil}, Doctors: {self.doctor_of_civil}\")\n",
    "\n",
    "class SGH(JPMC, Civil):\n",
    "    def __init__(self, patient_of_jpmc, doctor_of_jpmc,\n",
    "                 patient_of_civil, doctor_of_civil,\n",
    "                 patient_of_sgh, doctor_of_sgh,\n",
    "                 capacity_of_punjab_pat):\n",
    "        \n",
    "        JPMC.__init__(self, patient_of_jpmc, doctor_of_jpmc)\n",
    "        Civil.__init__(self, patient_of_civil, doctor_of_civil)\n",
    "        \n",
    "        self.name_sgh = 'for just Karachi'\n",
    "        self.patient_of_sgh = patient_of_sgh\n",
    "        self.doctor_of_sgh = doctor_of_sgh\n",
    "        self.capacity_of_punjab_pat = capacity_of_punjab_pat\n",
    "        \n",
    "    def get_info_sgh(self):\n",
    "        print(f\"Hospital: {self.name_sgh}, Patients: {self.patient_of_sgh}, Doctors: {self.doctor_of_sgh}, Capacity for Punjab Patients: {self.capacity_of_punjab_pat}\")\n"
   ]
  },
  {
   "cell_type": "code",
   "execution_count": 28,
   "id": "df508ed9",
   "metadata": {},
   "outputs": [],
   "source": [
    "SGH= SGH (\"IS VERY LOW\", \" is to short\",\n",
    "         \"is very good\", \"is normal\",\n",
    "         \"is good \", \" is good\",\n",
    "         \"yes\")"
   ]
  },
  {
   "cell_type": "code",
   "execution_count": 30,
   "id": "194f25e7",
   "metadata": {},
   "outputs": [
    {
     "data": {
      "text/plain": [
       "'yes'"
      ]
     },
     "execution_count": 30,
     "metadata": {},
     "output_type": "execute_result"
    }
   ],
   "source": [
    "SGH.capacity_of_punjab_pat"
   ]
  },
  {
   "cell_type": "code",
   "execution_count": 31,
   "id": "d3dcf5cd",
   "metadata": {},
   "outputs": [
    {
     "name": "stdout",
     "output_type": "stream",
     "text": [
      "Hospital: for whole Sindh nation, Patients: IS VERY LOW, Doctors:  is to short\n"
     ]
    }
   ],
   "source": [
    "SGH.get_info_jpmc()"
   ]
  },
  {
   "cell_type": "code",
   "execution_count": null,
   "id": "ee7de50a",
   "metadata": {},
   "outputs": [],
   "source": []
  }
 ],
 "metadata": {
  "kernelspec": {
   "display_name": "Python 3 (ipykernel)",
   "language": "python",
   "name": "python3"
  },
  "language_info": {
   "codemirror_mode": {
    "name": "ipython",
    "version": 3
   },
   "file_extension": ".py",
   "mimetype": "text/x-python",
   "name": "python",
   "nbconvert_exporter": "python",
   "pygments_lexer": "ipython3",
   "version": "3.11.5"
  }
 },
 "nbformat": 4,
 "nbformat_minor": 5
}
