{
 "cells": [
  {
   "cell_type": "code",
   "execution_count": 1,
   "id": "26d1512b",
   "metadata": {},
   "outputs": [
    {
     "ename": "NameError",
     "evalue": "name 'anees' is not defined",
     "output_type": "error",
     "traceback": [
      "\u001b[1;31m---------------------------------------------------------------------------\u001b[0m",
      "\u001b[1;31mNameError\u001b[0m                                 Traceback (most recent call last)",
      "Cell \u001b[1;32mIn[1], line 1\u001b[0m\n\u001b[1;32m----> 1\u001b[0m name \u001b[38;5;241m=\u001b[39m anees\n",
      "\u001b[1;31mNameError\u001b[0m: name 'anees' is not defined"
     ]
    }
   ],
   "source": [
    "name = anees"
   ]
  },
  {
   "cell_type": "code",
   "execution_count": 2,
   "id": "1a7e697b",
   "metadata": {},
   "outputs": [],
   "source": [
    "name = \"anees\""
   ]
  },
  {
   "cell_type": "code",
   "execution_count": 3,
   "id": "69957654",
   "metadata": {},
   "outputs": [
    {
     "data": {
      "text/plain": [
       "str"
      ]
     },
     "execution_count": 3,
     "metadata": {},
     "output_type": "execute_result"
    }
   ],
   "source": [
    "type(name)"
   ]
  },
  {
   "cell_type": "code",
   "execution_count": 4,
   "id": "17f31e6a",
   "metadata": {},
   "outputs": [
    {
     "ename": "SyntaxError",
     "evalue": "invalid syntax (3576218098.py, line 1)",
     "output_type": "error",
     "traceback": [
      "\u001b[1;36m  Cell \u001b[1;32mIn[4], line 1\u001b[1;36m\u001b[0m\n\u001b[1;33m    age str('89')\u001b[0m\n\u001b[1;37m        ^\u001b[0m\n\u001b[1;31mSyntaxError\u001b[0m\u001b[1;31m:\u001b[0m invalid syntax\n"
     ]
    }
   ],
   "source": [
    "age str('89')"
   ]
  },
  {
   "cell_type": "code",
   "execution_count": 5,
   "id": "50e4cc3c",
   "metadata": {},
   "outputs": [],
   "source": [
    "age = 78"
   ]
  },
  {
   "cell_type": "code",
   "execution_count": 6,
   "id": "6cfa129f",
   "metadata": {},
   "outputs": [
    {
     "data": {
      "text/plain": [
       "int"
      ]
     },
     "execution_count": 6,
     "metadata": {},
     "output_type": "execute_result"
    }
   ],
   "source": [
    "type(age)"
   ]
  },
  {
   "cell_type": "code",
   "execution_count": 7,
   "id": "b8d15aa3",
   "metadata": {},
   "outputs": [],
   "source": [
    "age = \"89\""
   ]
  },
  {
   "cell_type": "code",
   "execution_count": 8,
   "id": "f093301e",
   "metadata": {},
   "outputs": [
    {
     "data": {
      "text/plain": [
       "str"
      ]
     },
     "execution_count": 8,
     "metadata": {},
     "output_type": "execute_result"
    }
   ],
   "source": [
    "type(age)"
   ]
  },
  {
   "cell_type": "code",
   "execution_count": 11,
   "id": "4039d96d",
   "metadata": {},
   "outputs": [],
   "source": [
    "from typing import Any\n",
    "lst : list[Any] = [1,2,4,5,6]"
   ]
  },
  {
   "cell_type": "code",
   "execution_count": 12,
   "id": "05e70dee",
   "metadata": {},
   "outputs": [
    {
     "data": {
      "text/plain": [
       "[1, 2, 4, 5, 6]"
      ]
     },
     "execution_count": 12,
     "metadata": {},
     "output_type": "execute_result"
    }
   ],
   "source": [
    "lst"
   ]
  },
  {
   "cell_type": "code",
   "execution_count": 13,
   "id": "ee2dca7f",
   "metadata": {},
   "outputs": [],
   "source": [
    "dictionary: dict[Any] = {'first_name' : 'qasim', 'last_name' : 'ahmed','age' : 7}"
   ]
  },
  {
   "cell_type": "code",
   "execution_count": 14,
   "id": "ef0835d8",
   "metadata": {},
   "outputs": [],
   "source": [
    "dictionary: dict[str : int] = {'first_name' : 'qasim', 'last_name' : 'ahmed','age' : 7}"
   ]
  },
  {
   "cell_type": "code",
   "execution_count": 16,
   "id": "bde4de45",
   "metadata": {},
   "outputs": [],
   "source": [
    "from typing import Union\n"
   ]
  },
  {
   "cell_type": "code",
   "execution_count": 19,
   "id": "b4854bab",
   "metadata": {},
   "outputs": [],
   "source": [
    "key = Union[int,str]\n",
    "value = Union[str, int, bool, list, dict,]\n",
    "\n",
    "dictionary: dict[Any] = {'first_name' : 'qasim', 'last_name' : 'ahmed','age' : 7}\n"
   ]
  },
  {
   "cell_type": "code",
   "execution_count": 20,
   "id": "cf2ecd16",
   "metadata": {},
   "outputs": [],
   "source": [
    "def details(first_name : str):\n",
    "    return wlecome + "
   ]
  },
  {
   "cell_type": "code",
   "execution_count": 21,
   "id": "178b4494",
   "metadata": {},
   "outputs": [
    {
     "name": "stdout",
     "output_type": "stream",
     "text": [
      "qasim\n"
     ]
    }
   ],
   "source": [
    "details(\"qasim\")"
   ]
  },
  {
   "cell_type": "code",
   "execution_count": 22,
   "id": "c991cde2",
   "metadata": {},
   "outputs": [
    {
     "ename": "SyntaxError",
     "evalue": "expected ':' (1199172285.py, line 1)",
     "output_type": "error",
     "traceback": [
      "\u001b[1;36m  Cell \u001b[1;32mIn[22], line 1\u001b[1;36m\u001b[0m\n\u001b[1;33m    def greeting (name: str)\u001b[0m\n\u001b[1;37m                            ^\u001b[0m\n\u001b[1;31mSyntaxError\u001b[0m\u001b[1;31m:\u001b[0m expected ':'\n"
     ]
    }
   ],
   "source": [
    "def greeting (name: str)"
   ]
  },
  {
   "cell_type": "raw",
   "id": "250da24e",
   "metadata": {},
   "source": [
    "TASK:\n",
    "    \n",
    "1- create a class with name Parents\n",
    "2- class should have constuctor & its parameters should be name,\n",
    "    father's name, mother's name & no of child\n",
    "3- create two methods with name speaking, listening, mother tounge\n",
    "4- create a method that overrise the value of no of siblings"
   ]
  },
  {
   "cell_type": "code",
   "execution_count": 23,
   "id": "532de15c",
   "metadata": {},
   "outputs": [],
   "source": [
    "class neurotransmitter():\n",
    "    def __init__(self,synthesis,function,storage):\n",
    "     self.synthesis = synthesis\n",
    "     self.function = function\n",
    "     self.storage = storage \n",
    "    \n",
    "    def release(self):\n",
    "        if self.storage == 88:\n",
    "            print(f\"{self.synthesis} {self.function} neurotransmitter is more release {self.storage}: normal\")\n",
    "        else:\n",
    "            print(f\"{self.synthesis} {self.function} neurotransmitter is less release {self.storage}: abnormal\")\n",
    "    def change_name (self,update_synthesis):\n",
    "        self.synthesis = update_synthesis"
   ]
  },
  {
   "cell_type": "code",
   "execution_count": null,
   "id": "d381abf9",
   "metadata": {},
   "outputs": [],
   "source": [
    "class parents():\n",
    "    def __init__(self,father_name,mother_name,no_of_child):\n",
    "     self.father_name = father_name\n",
    "     self.mother_name = mother_name\n",
    "     self.no_of_student = no_of_student\n",
    "    \n",
    "    def speaking(self):\n",
    "        print(f\"{self.name} is speaking\")\n",
    "        "
   ]
  }
 ],
 "metadata": {
  "kernelspec": {
   "display_name": "Python 3 (ipykernel)",
   "language": "python",
   "name": "python3"
  },
  "language_info": {
   "codemirror_mode": {
    "name": "ipython",
    "version": 3
   },
   "file_extension": ".py",
   "mimetype": "text/x-python",
   "name": "python",
   "nbconvert_exporter": "python",
   "pygments_lexer": "ipython3",
   "version": "3.11.5"
  }
 },
 "nbformat": 4,
 "nbformat_minor": 5
}
