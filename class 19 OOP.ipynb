{
 "cells": [
  {
   "cell_type": "code",
   "execution_count": 47,
   "id": "7562832f",
   "metadata": {},
   "outputs": [],
   "source": [
    "class Teacher():\n",
    "    \n",
    "    teacher_id = 0 # class variable\n",
    "    help_contact = '0300-7662354' #staticvariable\n",
    "    \n",
    "    #constructor\n",
    "    def __init__(self, teacher_name):\n",
    "        self.teacher_name = teacher_name\n",
    "        self.institue = \"SMIT\"\n",
    "        Teacher.teacher_id +=1 #increment in class varibale\n",
    "    \n",
    "    @staticmethod\n",
    "    def attendance_percentage(present, total):\n",
    "        return (present*100)/total\n",
    "    \n",
    "    #method1\n",
    "    def teaching(self, subject):\n",
    "        print(f\"{self.teacher_name} is teaching {subject}\")\n",
    "    \n",
    "    #method2\n",
    "    def skill(self, tech_skill):\n",
    "        print(f\"{self.teacher_name} skill is {tech_skill}\")"
   ]
  },
  {
   "cell_type": "code",
   "execution_count": 48,
   "id": "7d372b5e",
   "metadata": {},
   "outputs": [
    {
     "name": "stdout",
     "output_type": "stream",
     "text": [
      "0\n",
      "Static Variable or class variable: 0300-7662354\n",
      "precentage of present students is 90.0\n"
     ]
    }
   ],
   "source": [
    "# class varibale\n",
    "print(Teacher.teacher_id)\n",
    "class_precentage = Teacher.attendance_percentage(45, 50)\n",
    "print(f\"Static Variable or class variable: {Teacher.help_contact}\")\n",
    "print(f\"precentage of present students is {class_precentage}\")"
   ]
  },
  {
   "cell_type": "code",
   "execution_count": 49,
   "id": "45a42589",
   "metadata": {},
   "outputs": [],
   "source": [
    "obje1 = Teacher('Qasim') # object initialization/ instantiation"
   ]
  },
  {
   "cell_type": "code",
   "execution_count": 52,
   "id": "e24fa527",
   "metadata": {},
   "outputs": [
    {
     "data": {
      "text/plain": [
       "['__class__',\n",
       " '__delattr__',\n",
       " '__dict__',\n",
       " '__dir__',\n",
       " '__doc__',\n",
       " '__eq__',\n",
       " '__format__',\n",
       " '__ge__',\n",
       " '__getattribute__',\n",
       " '__getstate__',\n",
       " '__gt__',\n",
       " '__hash__',\n",
       " '__init__',\n",
       " '__init_subclass__',\n",
       " '__le__',\n",
       " '__lt__',\n",
       " '__module__',\n",
       " '__ne__',\n",
       " '__new__',\n",
       " '__reduce__',\n",
       " '__reduce_ex__',\n",
       " '__repr__',\n",
       " '__setattr__',\n",
       " '__sizeof__',\n",
       " '__str__',\n",
       " '__subclasshook__',\n",
       " '__weakref__',\n",
       " 'attendance_percentage',\n",
       " 'help_contact',\n",
       " 'institue',\n",
       " 'skill',\n",
       " 'teacher_id',\n",
       " 'teacher_name',\n",
       " 'teaching']"
      ]
     },
     "execution_count": 52,
     "metadata": {},
     "output_type": "execute_result"
    }
   ],
   "source": [
    "dir(obje1)"
   ]
  },
  {
   "cell_type": "code",
   "execution_count": 50,
   "id": "07533c0f",
   "metadata": {},
   "outputs": [
    {
     "data": {
      "text/plain": [
       "['attendance_percentage',\n",
       " 'help_contact',\n",
       " 'institue',\n",
       " 'skill',\n",
       " 'teacher_id',\n",
       " 'teacher_name',\n",
       " 'teaching']"
      ]
     },
     "execution_count": 50,
     "metadata": {},
     "output_type": "execute_result"
    }
   ],
   "source": [
    "[i for i in dir(obje1) if '__' not in i] "
   ]
  },
  {
   "cell_type": "code",
   "execution_count": 51,
   "id": "43bd7ce6",
   "metadata": {},
   "outputs": [
    {
     "name": "stdout",
     "output_type": "stream",
     "text": [
      "1\n",
      "Qasim\n",
      "SMIT\n",
      "Qasim is teaching Python Programming\n",
      "Qasim skill is Data Engineering\n"
     ]
    }
   ],
   "source": [
    "# constructor variables\n",
    "print(obje1.teacher_id)\n",
    "print(obje1.teacher_name)\n",
    "print(obje1.institue)\n",
    "\n",
    "# Methods Calling\n",
    "obje1.teaching(\"Python Programming\")\n",
    "obje1.skill(\"Data Engineering\")"
   ]
  },
  {
   "cell_type": "code",
   "execution_count": 39,
   "id": "7ecf82b1",
   "metadata": {},
   "outputs": [],
   "source": [
    "obje2 = Teacher('Mehmood')"
   ]
  },
  {
   "cell_type": "code",
   "execution_count": 26,
   "id": "e620ff45",
   "metadata": {},
   "outputs": [
    {
     "name": "stdout",
     "output_type": "stream",
     "text": [
      "2\n",
      "2\n"
     ]
    }
   ],
   "source": [
    "# class varibale\n",
    "print(Teacher.teacher_id)\n",
    "print(obje2.teacher_id)"
   ]
  },
  {
   "cell_type": "code",
   "execution_count": 45,
   "id": "c23e892d",
   "metadata": {},
   "outputs": [],
   "source": [
    "def attendance_percentage(present, total):\n",
    "    return (present*100)/total"
   ]
  },
  {
   "cell_type": "code",
   "execution_count": 46,
   "id": "93bf8b47",
   "metadata": {},
   "outputs": [
    {
     "data": {
      "text/plain": [
       "90.0"
      ]
     },
     "execution_count": 46,
     "metadata": {},
     "output_type": "execute_result"
    }
   ],
   "source": [
    "attendance_percentage(45, 50)"
   ]
  },
  {
   "cell_type": "markdown",
   "id": "8e5137bb",
   "metadata": {},
   "source": [
    "## OOP (Object Oriented Programming)\n",
    "\n",
    "- Inheritance\n",
    "- Abstraction [class(abstract/blueprint)--> class --> object]\n",
    "- Polymorphism\n",
    "- Encapsulation\n"
   ]
  },
  {
   "cell_type": "markdown",
   "id": "e9909dc6",
   "metadata": {},
   "source": [
    "#### Inhertance"
   ]
  },
  {
   "cell_type": "code",
   "execution_count": 61,
   "id": "fa652419",
   "metadata": {},
   "outputs": [],
   "source": [
    "class Parents(): # what it has & what it can do\n",
    "    \n",
    "    def __init__(self):\n",
    "        self.eye_color = \"Brown\"\n",
    "        self.hair_color = \"black\"\n",
    "\n",
    "    def speak(self, words):\n",
    "        print(f\"Parent method speak: {words}\")\n",
    "\n",
    "    def watching(sef, object_name):\n",
    "        print(f\"You are looking {object_name}!\")\n",
    "\n",
    "class Child(Parents):\n",
    "    \n",
    "    def drive(self, vehicle):\n",
    "        print(f\"Child can drive Vehicle: {vehicle}\")"
   ]
  },
  {
   "cell_type": "code",
   "execution_count": 62,
   "id": "e073e4c4",
   "metadata": {},
   "outputs": [],
   "source": [
    "parent = Parents()"
   ]
  },
  {
   "cell_type": "code",
   "execution_count": 63,
   "id": "4df08dc0",
   "metadata": {},
   "outputs": [
    {
     "name": "stdout",
     "output_type": "stream",
     "text": [
      "Brown\n",
      "black\n",
      "Parent method speak: Got to SMIT\n",
      "You are looking re:invernt!\n"
     ]
    }
   ],
   "source": [
    "# parent class\n",
    "print(parent.eye_color)\n",
    "print(parent.hair_color)\n",
    "parent.speak(\"Got to SMIT\")\n",
    "parent.watching('re:invernt')"
   ]
  },
  {
   "cell_type": "code",
   "execution_count": 64,
   "id": "2dafbca7",
   "metadata": {},
   "outputs": [],
   "source": [
    "chlid = Child()"
   ]
  },
  {
   "cell_type": "code",
   "execution_count": 65,
   "id": "8156e4d5",
   "metadata": {},
   "outputs": [
    {
     "name": "stdout",
     "output_type": "stream",
     "text": [
      "Brown\n",
      "black\n",
      "Parent method speak: Got to SMIT\n",
      "You are looking re:invernt!\n",
      "Child can drive Vehicle: Mehran\n"
     ]
    }
   ],
   "source": [
    "# parent class\n",
    "print(chlid.eye_color)\n",
    "print(chlid.hair_color)\n",
    "chlid.speak(\"Got to SMIT\")\n",
    "chlid.watching('re:invernt')\n",
    "chlid.drive(\"Mehran\")"
   ]
  },
  {
   "cell_type": "markdown",
   "id": "73440124",
   "metadata": {},
   "source": [
    "## Example: 2\n",
    "\n",
    "single parent class to multiple chlid classes"
   ]
  },
  {
   "cell_type": "code",
   "execution_count": 68,
   "id": "0c001a4f",
   "metadata": {},
   "outputs": [],
   "source": [
    "class Employee():\n",
    "    \n",
    "    def __init__(self, name, organization):\n",
    "        self.name = name\n",
    "        self.organization = organization\n",
    "    \n",
    "    def print_details(self):\n",
    "        print(f\"Employe name is {self.name} & organziation is {self.organization}\")\n",
    "\n",
    "class Desginer(Employee):\n",
    "    def __init__(self, name, organization, title):\n",
    "        super().__init__(name, organization)\n",
    "        self.title = title\n",
    "\n",
    "class Developer(Employee):\n",
    "    def __init__(self, title, name, organization):\n",
    "        super().__init__(name, organization)\n",
    "        self.title = title\n",
    "        self.programming_skills = [\"python\"]"
   ]
  },
  {
   "cell_type": "code",
   "execution_count": 69,
   "id": "d9925cce",
   "metadata": {},
   "outputs": [],
   "source": [
    "desinger = Desginer('Mehmood', 'SMIT', 'Artist')"
   ]
  },
  {
   "cell_type": "code",
   "execution_count": 71,
   "id": "20b0252a",
   "metadata": {},
   "outputs": [
    {
     "name": "stdout",
     "output_type": "stream",
     "text": [
      "Mehmood\n",
      "SMIT\n",
      "Artist\n",
      "Employe name is Mehmood & organziation is SMIT\n"
     ]
    }
   ],
   "source": [
    "print(desinger.name)\n",
    "print(desinger.organization)\n",
    "print(desinger.title)\n",
    "desinger.print_details()"
   ]
  },
  {
   "cell_type": "code",
   "execution_count": 72,
   "id": "0a73ffb4",
   "metadata": {},
   "outputs": [],
   "source": [
    "developer = Developer('Data Engineer', 'Qasim', 'RC')"
   ]
  },
  {
   "cell_type": "code",
   "execution_count": 73,
   "id": "9cc9d749",
   "metadata": {},
   "outputs": [
    {
     "name": "stdout",
     "output_type": "stream",
     "text": [
      "Qasim\n",
      "RC\n",
      "Data Engineer\n",
      "['python']\n",
      "Employe name is Qasim & organziation is RC\n"
     ]
    }
   ],
   "source": [
    "print(developer.name)\n",
    "print(developer.organization)\n",
    "print(developer.title)\n",
    "print(developer.programming_skills)\n",
    "developer.print_details()"
   ]
  },
  {
   "cell_type": "code",
   "execution_count": 75,
   "id": "de6b03d8",
   "metadata": {},
   "outputs": [
    {
     "name": "stdout",
     "output_type": "stream",
     "text": [
      "object height 6 Feet\n",
      "object eye color blue\n",
      "Father Speaking function: Pakistan zinda bad\n"
     ]
    }
   ],
   "source": [
    "class Mother:\n",
    "    def __init__(self,name):\n",
    "        self.name = name\n",
    "        self.eye_color = \"blue\"\n",
    "    \n",
    "    def speaking(self, words):\n",
    "        return f\"Monther Speaking function: {words}\"\n",
    "\n",
    "class Father:\n",
    "    def __init__(self, name):\n",
    "        self.name = name\n",
    "        self.height = \"6 Feet\"\n",
    "\n",
    "    def speaking(self, words):\n",
    "        return f\"Father Speaking function: {words}\"\n",
    "\n",
    "class Child(Father, Mother):\n",
    "    \n",
    "    def __init__(self, father_name, mother_name, child_name):\n",
    "        Father.__init__(self, father_name)\n",
    "        Mother.__init__(self, mother_name)\n",
    "        self.child_name = child_name\n",
    "        \n",
    "\n",
    "qasim= Child(\"Hassan Khan\", \"Bakth Un Nissa\",\"Qasim Hassan\")\n",
    "\n",
    "print(f\"object height {qasim.height}\")\n",
    "print(f\"object eye color {qasim.eye_color}\")\n",
    "print(qasim.speaking(\"Pakistan zinda bad\"))"
   ]
  },
  {
   "cell_type": "markdown",
   "id": "4926548b",
   "metadata": {},
   "source": [
    "## TASK:\n",
    "\n",
    "- create a saylani Bahadurabad class with atleast 1 method & 3 attributes i:e., web developmnet class\n",
    "- create a saylani Gulshan class with atleast 1 method & 3 attributes i:e., Python Programming\n",
    "- create a Saylani Bloach class that inherit Bhadurabad & Gulshan class but should additional capacify feature for Females"
   ]
  },
  {
   "cell_type": "code",
   "execution_count": 29,
   "id": "aa8d72b9",
   "metadata": {},
   "outputs": [],
   "source": [
    "class Saylani_Bahadurabad:\n",
    "    \n",
    "    def __init__(self, duration_bha, schedule_bha):\n",
    "        self.name_bha = \"Web Development\" # static varibale\n",
    "        self.duration_bha = duration_bha\n",
    "        self.schedule_bha = schedule_bha\n",
    "    \n",
    "    #method    \n",
    "    def get_info_bah(self):\n",
    "        print(f\"Course {self.name_bha}, duration {self.duration_bha}, schedule {self.schedule_bha}\")\n",
    "        \n",
    "class Saylani_Gulshan:\n",
    "    \n",
    "    def __init__(self, duration_gul, schedule_gul):\n",
    "        self.name_gul = \"Python programming\"\n",
    "        self.duration_gul = duration_gul\n",
    "        self.schedule_gul = schedule_gul\n",
    "    \n",
    "    def get_info_gul(self):\n",
    "        print(f\"Course {self.name_gul}, duration {self.duration_gul}, schedule {self.schedule_gul}\")\n",
    "        \n",
    "class Saylani_Bloach(Saylani_Bahadurabad, Saylani_Gulshan):\n",
    "    \n",
    "    def __init__(self,duration_bha, schedule_bha,\n",
    "                 duration_gul, schedule_gul,\n",
    "                 duration_bal, schedule_bal,\n",
    "                 capacity_of_female):\n",
    "        # super().__init__(duration, schedule) # first parent => Saylani_Bahadurabad\n",
    "        Saylani_Bahadurabad.__init__(self, duration_bha, schedule_bha)\n",
    "        Saylani_Gulshan.__init__(self, duration_gul, schedule_gul)\n",
    "        \n",
    "        self.name_bal = 'AWS'\n",
    "        self.duration_bal = duration_bal\n",
    "        self.schedule_bal = schedule_bal\n",
    "        self.capacity_of_female = capacity_of_female\n",
    "        \n",
    "    def get_info(self):\n",
    "        print(f\"Course {self.name_bal}, duration {self.duration_bal}, schedule {self.schedule_bal} and also have capacity for female {self.capacity_of_female}\")"
   ]
  },
  {
   "cell_type": "code",
   "execution_count": 30,
   "id": "4d38e35b",
   "metadata": {},
   "outputs": [],
   "source": [
    "saylani_bloach= Saylani_Bloach(\"2 Months\", \"9am to 11am\",\n",
    "                               \"4 Moths\", '12pm to 3pm',\n",
    "                               \"1 Months\", '4pm to 5pm',\n",
    "                               'Yes')"
   ]
  },
  {
   "cell_type": "code",
   "execution_count": 31,
   "id": "04d3b197",
   "metadata": {},
   "outputs": [
    {
     "name": "stdout",
     "output_type": "stream",
     "text": [
      "Course AWS, duration 1 Months, schedule 4pm to 5pm and also have capacity for female Yes\n"
     ]
    }
   ],
   "source": [
    "saylani_bloach.get_info()"
   ]
  },
  {
   "cell_type": "code",
   "execution_count": 32,
   "id": "d972ce19",
   "metadata": {},
   "outputs": [
    {
     "name": "stdout",
     "output_type": "stream",
     "text": [
      "Course Web Development, duration 2 Months, schedule 9am to 11am\n"
     ]
    }
   ],
   "source": [
    "saylani_bloach.get_info_bah()"
   ]
  },
  {
   "cell_type": "code",
   "execution_count": 34,
   "id": "3c55912a",
   "metadata": {},
   "outputs": [
    {
     "name": "stdout",
     "output_type": "stream",
     "text": [
      "Course Python programming, duration 4 Moths, schedule 12pm to 3pm\n"
     ]
    }
   ],
   "source": [
    "saylani_bloach.get_info_gul()"
   ]
  },
  {
   "cell_type": "code",
   "execution_count": 20,
   "id": "f2d761ed",
   "metadata": {},
   "outputs": [
    {
     "name": "stdout",
     "output_type": "stream",
     "text": [
      "Course Web Development, duration 6 month, schedule Evening and also have capacity for female yes\n",
      "Web Development\n"
     ]
    }
   ],
   "source": [
    "\n",
    "saylani_bloach.get_info()\n",
    "\n",
    "print(saylani_bloach.name)"
   ]
  },
  {
   "cell_type": "code",
   "execution_count": 17,
   "id": "ce156fd7",
   "metadata": {},
   "outputs": [
    {
     "name": "stdout",
     "output_type": "stream",
     "text": [
      "Course Web Development, duration 6 month, schedule Evening\n",
      "Web Development\n"
     ]
    }
   ],
   "source": [
    "bahadurabad_class = Saylani_Bahadurabad(\"6 month\", \"Evening\")\n",
    "bahadurabad_class.get_info()\n",
    "\n",
    "print(bahadurabad_class.name)"
   ]
  },
  {
   "cell_type": "code",
   "execution_count": 18,
   "id": "43f07612",
   "metadata": {},
   "outputs": [
    {
     "name": "stdout",
     "output_type": "stream",
     "text": [
      "Course Python programming, duration 6 month, schedule Evening\n",
      "Python programming\n"
     ]
    }
   ],
   "source": [
    "saylani_gulshan = Saylani_Gulshan(\"6 month\", \"Evening\")\n",
    "saylani_gulshan.get_info()\n",
    "\n",
    "print(saylani_gulshan.name)"
   ]
  },
  {
   "cell_type": "code",
   "execution_count": 19,
   "id": "822c0257",
   "metadata": {},
   "outputs": [
    {
     "name": "stdout",
     "output_type": "stream",
     "text": [
      "Course Web Development, duration 6 month, schedule Evening and also have capacity for female yes\n",
      "Web Development\n"
     ]
    }
   ],
   "source": []
  },
  {
   "cell_type": "markdown",
   "id": "fbb36ca9",
   "metadata": {},
   "source": [
    "## ABSTRACTION"
   ]
  },
  {
   "cell_type": "code",
   "execution_count": 20,
   "id": "6149861e",
   "metadata": {},
   "outputs": [],
   "source": [
    "class Shapes(): #abstract class\n",
    "    \n",
    "    #abstract method\n",
    "    def sides(self):\n",
    "        ...\n",
    "    \n",
    "    def display(self):\n",
    "        print('Normal Method of abstract class')"
   ]
  },
  {
   "cell_type": "code",
   "execution_count": 21,
   "id": "ce7b8067",
   "metadata": {},
   "outputs": [],
   "source": [
    "class Triangle(Shapes): #subclass\n",
    "    \n",
    "    def sides(self):\n",
    "        print('triangle has three sides...') #definition in subclass\n",
    "\n",
    "class Square(Shapes):\n",
    "    \n",
    "    def sides(self):\n",
    "        print('square has four sides...')"
   ]
  },
  {
   "cell_type": "code",
   "execution_count": 22,
   "id": "587d2d28",
   "metadata": {},
   "outputs": [],
   "source": [
    "triangle = Triangle()"
   ]
  },
  {
   "cell_type": "code",
   "execution_count": 23,
   "id": "de43261b",
   "metadata": {},
   "outputs": [
    {
     "name": "stdout",
     "output_type": "stream",
     "text": [
      "triangle has three sides...\n"
     ]
    }
   ],
   "source": [
    "triangle.sides()"
   ]
  },
  {
   "cell_type": "code",
   "execution_count": 24,
   "id": "dbece14b",
   "metadata": {},
   "outputs": [],
   "source": [
    "square = Square()"
   ]
  },
  {
   "cell_type": "code",
   "execution_count": 25,
   "id": "d0b559fb",
   "metadata": {},
   "outputs": [
    {
     "name": "stdout",
     "output_type": "stream",
     "text": [
      "square has four sides...\n"
     ]
    }
   ],
   "source": [
    "square.sides()"
   ]
  },
  {
   "cell_type": "code",
   "execution_count": 26,
   "id": "c2ce3e37",
   "metadata": {},
   "outputs": [
    {
     "name": "stdout",
     "output_type": "stream",
     "text": [
      "Normal Method of abstract class\n"
     ]
    }
   ],
   "source": [
    "square.display()"
   ]
  },
  {
   "cell_type": "markdown",
   "id": "b3c5f453",
   "metadata": {},
   "source": [
    "## POLYMORPHISM"
   ]
  },
  {
   "cell_type": "code",
   "execution_count": 29,
   "id": "20e381e1",
   "metadata": {},
   "outputs": [],
   "source": [
    "a = 13"
   ]
  },
  {
   "cell_type": "code",
   "execution_count": 30,
   "id": "c88ca6db",
   "metadata": {},
   "outputs": [],
   "source": [
    "a = 15"
   ]
  },
  {
   "cell_type": "code",
   "execution_count": 31,
   "id": "b2e75d95",
   "metadata": {},
   "outputs": [
    {
     "data": {
      "text/plain": [
       "15"
      ]
     },
     "execution_count": 31,
     "metadata": {},
     "output_type": "execute_result"
    }
   ],
   "source": [
    "a"
   ]
  },
  {
   "cell_type": "code",
   "execution_count": 27,
   "id": "a172c80f",
   "metadata": {},
   "outputs": [],
   "source": [
    "class Animals(): # parent class\n",
    "    \n",
    "    def eating(self, name): #same method\n",
    "        print(f\"Animals are eating: {name}\")\n",
    "\n",
    "class Birds(Animals): #child class\n",
    "    \n",
    "    def eating(self, name): #same method is OVERRIDING\n",
    "        print(f\"Birds are eating: {name}\")"
   ]
  },
  {
   "cell_type": "code",
   "execution_count": 28,
   "id": "82d53c02",
   "metadata": {},
   "outputs": [
    {
     "name": "stdout",
     "output_type": "stream",
     "text": [
      "Birds are eating: Bajra\n"
     ]
    }
   ],
   "source": [
    "birds = Birds()\n",
    "\n",
    "birds.eating('Bajra')"
   ]
  },
  {
   "cell_type": "code",
   "execution_count": 33,
   "id": "c2522c72",
   "metadata": {},
   "outputs": [
    {
     "data": {
      "text/plain": [
       "__main__.Birds"
      ]
     },
     "execution_count": 33,
     "metadata": {},
     "output_type": "execute_result"
    }
   ],
   "source": [
    "type(birds)"
   ]
  },
  {
   "cell_type": "code",
   "execution_count": 32,
   "id": "6b6fc770",
   "metadata": {},
   "outputs": [
    {
     "name": "stdout",
     "output_type": "stream",
     "text": [
      "Animals are eating: Bajra\n"
     ]
    }
   ],
   "source": [
    "animal = Animals()\n",
    "\n",
    "animal.eating('Bajra')"
   ]
  },
  {
   "cell_type": "code",
   "execution_count": 34,
   "id": "7472d19e",
   "metadata": {},
   "outputs": [
    {
     "data": {
      "text/plain": [
       "__main__.Animals"
      ]
     },
     "execution_count": 34,
     "metadata": {},
     "output_type": "execute_result"
    }
   ],
   "source": [
    "type(animal)"
   ]
  },
  {
   "cell_type": "markdown",
   "id": "4a5b3006",
   "metadata": {},
   "source": [
    "## Method Overloading"
   ]
  },
  {
   "cell_type": "code",
   "execution_count": 37,
   "id": "21fa88fb",
   "metadata": {},
   "outputs": [],
   "source": [
    "from typing import overload, Union\n",
    "\n",
    "class Mathematics():\n",
    "    \n",
    "    @overload\n",
    "    def addition(self, x: int ,y: int) -> int:\n",
    "            ...\n",
    "    \n",
    "    @overload\n",
    "    def addition(self, x: str ,y: str) -> str:\n",
    "            ...\n",
    "            \n",
    "    @overload\n",
    "    def addition(self, x: float ,y: float) -> float:\n",
    "            ...\n",
    "    \n",
    "    def addition(self, x:Union[int, str, float], y:Union[int, str, float]) -> Union[int, str, float]:\n",
    "        if isinstance(x, int) and isinstance(y, int):\n",
    "            return x+y\n",
    "        elif isinstance(x, str) and isinstance(y, str):\n",
    "            return x+y\n",
    "        elif isinstance(x, float) and isinstance(y, float):\n",
    "            return x+y\n",
    "        else:\n",
    "            raise TypeError(\"Type missmatch\")"
   ]
  },
  {
   "cell_type": "code",
   "execution_count": 38,
   "id": "6ee39a0b",
   "metadata": {},
   "outputs": [],
   "source": [
    "mathematics = Mathematics()"
   ]
  },
  {
   "cell_type": "code",
   "execution_count": 39,
   "id": "b87588fc",
   "metadata": {},
   "outputs": [
    {
     "data": {
      "text/plain": [
       "5"
      ]
     },
     "execution_count": 39,
     "metadata": {},
     "output_type": "execute_result"
    }
   ],
   "source": [
    "mathematics.addition(1,4) #INT: return 5"
   ]
  },
  {
   "cell_type": "code",
   "execution_count": 40,
   "id": "6b60b5a6",
   "metadata": {},
   "outputs": [
    {
     "data": {
      "text/plain": [
       "6.0"
      ]
     },
     "execution_count": 40,
     "metadata": {},
     "output_type": "execute_result"
    }
   ],
   "source": [
    "mathematics.addition(1.5,4.5) #FLOAT: return 6.0"
   ]
  },
  {
   "cell_type": "code",
   "execution_count": 41,
   "id": "8b6eeed8",
   "metadata": {},
   "outputs": [
    {
     "data": {
      "text/plain": [
       "'qasim'"
      ]
     },
     "execution_count": 41,
     "metadata": {},
     "output_type": "execute_result"
    }
   ],
   "source": [
    "mathematics.addition('qas', 'im') #STRING: return qasim"
   ]
  },
  {
   "cell_type": "code",
   "execution_count": 42,
   "id": "d79c7b12",
   "metadata": {},
   "outputs": [
    {
     "ename": "TypeError",
     "evalue": "Type missmatch",
     "output_type": "error",
     "traceback": [
      "\u001b[1;31m---------------------------------------------------------------------------\u001b[0m",
      "\u001b[1;31mTypeError\u001b[0m                                 Traceback (most recent call last)",
      "Cell \u001b[1;32mIn[42], line 1\u001b[0m\n\u001b[1;32m----> 1\u001b[0m mathematics\u001b[38;5;241m.\u001b[39maddition([\u001b[38;5;241m1\u001b[39m,\u001b[38;5;241m2\u001b[39m,\u001b[38;5;241m3\u001b[39m], [\u001b[38;5;241m4\u001b[39m,\u001b[38;5;241m5\u001b[39m,\u001b[38;5;241m6\u001b[39m])\n",
      "Cell \u001b[1;32mIn[37], line 25\u001b[0m, in \u001b[0;36mMathematics.addition\u001b[1;34m(self, x, y)\u001b[0m\n\u001b[0;32m     23\u001b[0m     \u001b[38;5;28;01mreturn\u001b[39;00m x\u001b[38;5;241m+\u001b[39my\n\u001b[0;32m     24\u001b[0m \u001b[38;5;28;01melse\u001b[39;00m:\n\u001b[1;32m---> 25\u001b[0m     \u001b[38;5;28;01mraise\u001b[39;00m \u001b[38;5;167;01mTypeError\u001b[39;00m(\u001b[38;5;124m\"\u001b[39m\u001b[38;5;124mType missmatch\u001b[39m\u001b[38;5;124m\"\u001b[39m)\n",
      "\u001b[1;31mTypeError\u001b[0m: Type missmatch"
     ]
    }
   ],
   "source": [
    "mathematics.addition([1,2,3], [4,5,6])"
   ]
  },
  {
   "cell_type": "code",
   "execution_count": 43,
   "id": "c6fa045c",
   "metadata": {},
   "outputs": [],
   "source": [
    "#function overloading\n",
    "\n",
    "from typing import overload, Union\n",
    "    \n",
    "@overload\n",
    "def addition(x: int ,y: int) -> int:\n",
    "        ...\n",
    "\n",
    "@overload\n",
    "def addition(x: str ,y: str) -> str:\n",
    "        ...\n",
    "\n",
    "@overload\n",
    "def addition(x: float ,y: float) -> float:\n",
    "        ...\n",
    "\n",
    "def addition(x:Union[int, str, float], y:Union[int, str, float]) -> Union[int, str, float]:\n",
    "    if isinstance(x, int) and isinstance(y, int):\n",
    "        return x+y\n",
    "    elif isinstance(x, str) and isinstance(y, str):\n",
    "        return x+y\n",
    "    elif isinstance(x, float) and isinstance(y, float):\n",
    "        return x+y\n",
    "    else:\n",
    "        raise TypeError(\"Type missmatch\")"
   ]
  },
  {
   "cell_type": "code",
   "execution_count": 44,
   "id": "ef91fbcd",
   "metadata": {},
   "outputs": [
    {
     "data": {
      "text/plain": [
       "7"
      ]
     },
     "execution_count": 44,
     "metadata": {},
     "output_type": "execute_result"
    }
   ],
   "source": [
    "addition(2,5)"
   ]
  },
  {
   "cell_type": "code",
   "execution_count": 45,
   "id": "926e9b9f",
   "metadata": {},
   "outputs": [
    {
     "ename": "TypeError",
     "evalue": "Type missmatch",
     "output_type": "error",
     "traceback": [
      "\u001b[1;31m---------------------------------------------------------------------------\u001b[0m",
      "\u001b[1;31mTypeError\u001b[0m                                 Traceback (most recent call last)",
      "Cell \u001b[1;32mIn[45], line 1\u001b[0m\n\u001b[1;32m----> 1\u001b[0m addition([\u001b[38;5;241m1\u001b[39m,\u001b[38;5;241m2\u001b[39m,\u001b[38;5;241m3\u001b[39m],[\u001b[38;5;241m2\u001b[39m,\u001b[38;5;241m3\u001b[39m,\u001b[38;5;241m4\u001b[39m])\n",
      "Cell \u001b[1;32mIn[43], line 23\u001b[0m, in \u001b[0;36maddition\u001b[1;34m(x, y)\u001b[0m\n\u001b[0;32m     21\u001b[0m     \u001b[38;5;28;01mreturn\u001b[39;00m x\u001b[38;5;241m+\u001b[39my\n\u001b[0;32m     22\u001b[0m \u001b[38;5;28;01melse\u001b[39;00m:\n\u001b[1;32m---> 23\u001b[0m     \u001b[38;5;28;01mraise\u001b[39;00m \u001b[38;5;167;01mTypeError\u001b[39;00m(\u001b[38;5;124m\"\u001b[39m\u001b[38;5;124mType missmatch\u001b[39m\u001b[38;5;124m\"\u001b[39m)\n",
      "\u001b[1;31mTypeError\u001b[0m: Type missmatch"
     ]
    }
   ],
   "source": [
    "addition([1,2,3],[2,3,4])"
   ]
  },
  {
   "cell_type": "markdown",
   "id": "27c4d252",
   "metadata": {},
   "source": [
    "## ENCAPSULATION"
   ]
  },
  {
   "cell_type": "code",
   "execution_count": 12,
   "id": "764b9c7e",
   "metadata": {},
   "outputs": [],
   "source": [
    "class Saylani:\n",
    "    \n",
    "    def __init__(self):\n",
    "        self.helpline = \"021-123456-9\" #public\n",
    "        self._faculty_no = \"0300-7894566\" #protected\n",
    "        self.__addmission = \"Python Programming\" #private\n",
    "    \n",
    "    def details(self):\n",
    "        print(f\"for {self.__addmission} please contact helpline {self.helpline} or {self._faculty_no}\")            "
   ]
  },
  {
   "cell_type": "code",
   "execution_count": 13,
   "id": "15e1c7d1",
   "metadata": {},
   "outputs": [],
   "source": [
    "obj = Saylani()"
   ]
  },
  {
   "cell_type": "code",
   "execution_count": 14,
   "id": "8a1a6be0",
   "metadata": {},
   "outputs": [
    {
     "name": "stdout",
     "output_type": "stream",
     "text": [
      "for Python Programming please contact helpline 021-123456-9 or 0300-7894566\n"
     ]
    }
   ],
   "source": [
    "obj.details()"
   ]
  },
  {
   "cell_type": "code",
   "execution_count": 15,
   "id": "43f41694",
   "metadata": {},
   "outputs": [
    {
     "ename": "AttributeError",
     "evalue": "'Saylani' object has no attribute 'addmission'",
     "output_type": "error",
     "traceback": [
      "\u001b[1;31m---------------------------------------------------------------------------\u001b[0m",
      "\u001b[1;31mAttributeError\u001b[0m                            Traceback (most recent call last)",
      "Cell \u001b[1;32mIn[15], line 1\u001b[0m\n\u001b[1;32m----> 1\u001b[0m obj\u001b[38;5;241m.\u001b[39maddmission\n",
      "\u001b[1;31mAttributeError\u001b[0m: 'Saylani' object has no attribute 'addmission'"
     ]
    }
   ],
   "source": [
    "obj.addmission"
   ]
  },
  {
   "cell_type": "code",
   "execution_count": 17,
   "id": "b55c4ddc",
   "metadata": {},
   "outputs": [
    {
     "ename": "AttributeError",
     "evalue": "'Saylani' object has no attribute '__addmission'",
     "output_type": "error",
     "traceback": [
      "\u001b[1;31m---------------------------------------------------------------------------\u001b[0m",
      "\u001b[1;31mAttributeError\u001b[0m                            Traceback (most recent call last)",
      "Cell \u001b[1;32mIn[17], line 1\u001b[0m\n\u001b[1;32m----> 1\u001b[0m obj\u001b[38;5;241m.\u001b[39m__addmission\n",
      "\u001b[1;31mAttributeError\u001b[0m: 'Saylani' object has no attribute '__addmission'"
     ]
    }
   ],
   "source": [
    "obj.__addmission"
   ]
  },
  {
   "cell_type": "code",
   "execution_count": 16,
   "id": "0505d0bd",
   "metadata": {},
   "outputs": [
    {
     "data": {
      "text/plain": [
       "'Python Programming'"
      ]
     },
     "execution_count": 16,
     "metadata": {},
     "output_type": "execute_result"
    }
   ],
   "source": [
    "obj._Saylani__addmission"
   ]
  },
  {
   "cell_type": "code",
   "execution_count": 6,
   "id": "7bfa0cab",
   "metadata": {},
   "outputs": [
    {
     "data": {
      "text/plain": [
       "'021-123456-9'"
      ]
     },
     "execution_count": 6,
     "metadata": {},
     "output_type": "execute_result"
    }
   ],
   "source": [
    "obj.helpline"
   ]
  },
  {
   "cell_type": "code",
   "execution_count": 7,
   "id": "d700add4",
   "metadata": {},
   "outputs": [
    {
     "data": {
      "text/plain": [
       "'0300-7894566'"
      ]
     },
     "execution_count": 7,
     "metadata": {},
     "output_type": "execute_result"
    }
   ],
   "source": [
    "obj.faculty_no"
   ]
  },
  {
   "cell_type": "code",
   "execution_count": null,
   "id": "33de2be5",
   "metadata": {},
   "outputs": [],
   "source": [
    "class Stududent"
   ]
  },
  {
   "cell_type": "code",
   "execution_count": 18,
   "id": "56e44a0f",
   "metadata": {},
   "outputs": [],
   "source": [
    "class StudentLogin():\n",
    "    def __init__(self) -> None:\n",
    "        self.__username : str = \"Admin\" # private\n",
    "        self.__password : str = \"Admin\" # private\n",
    "\n",
    "\n",
    "    def __dbconnectivity(self, user:str, passwrod:str):\n",
    "        print(\"Successfully connected\")\n",
    "        if user == self.__username and passwrod==self.__password:\n",
    "            return \"Valid user\"\n",
    "        else:\n",
    "            return \"Invalid user\"\n",
    "        \n",
    "    def update_password(self,password:str):\n",
    "        self.__password = password\n",
    "\n",
    "    def student_login(self, user: str , pass1: str):\n",
    "        message :str = self.__dbconnectivity(user,pass1)\n",
    "        print(message)\n",
    "\n",
    "    def display_information(self):\n",
    "        print(f\"Hello Dear, {self.__username} and password {self.__password}\")\n",
    "\n",
    "\n",
    "qasim : StudentLogin = StudentLogin()"
   ]
  },
  {
   "cell_type": "code",
   "execution_count": 19,
   "id": "1d795101",
   "metadata": {},
   "outputs": [],
   "source": [
    "ABC = StudentLogin"
   ]
  },
  {
   "cell_type": "code",
   "execution_count": 22,
   "id": "6429eac4",
   "metadata": {},
   "outputs": [],
   "source": [
    "class StudentLogin():\n",
    "    \n",
    "    def __init__(self):\n",
    "        self.__user_name = \"User\" #private\n",
    "        self.__password = \"Password\" #private\n",
    "    \n",
    "    def __dbconnectivity(self, user, pass1):\n",
    "        print(f\"Sucessfully connected with Database\")\n",
    "        if (self.__user_name == user) and (self.__password == pass1):\n",
    "            return \"Valid User\"\n",
    "        else:\n",
    "            return \"Invalid User\"    \n",
    "    \n",
    "    def studentlogin(self, user, pass1):\n",
    "        message = self.__dbconnectivity(user, pass1)\n",
    "        print(message)\n",
    "    \n",
    "    def details(self):\n",
    "        print(f\"Hello, {self.__user_name} with your credentials {self.__password}\")"
   ]
  },
  {
   "cell_type": "code",
   "execution_count": 23,
   "id": "110bffc1",
   "metadata": {},
   "outputs": [
    {
     "name": "stdout",
     "output_type": "stream",
     "text": [
      "Sucessfully connected with Database\n",
      "Valid User\n",
      "Hello, User with your credentials Password\n"
     ]
    }
   ],
   "source": [
    "login = StudentLogin()\n",
    "\n",
    "login.studentlogin(\"User\", \"Password\")\n",
    "\n",
    "login.details()"
   ]
  },
  {
   "cell_type": "code",
   "execution_count": null,
   "id": "6cb568b2",
   "metadata": {},
   "outputs": [],
   "source": [
    "1- create a class with name SaylaniAdmissions\n",
    "2- class should have three dynamic variables i:e., courses_launch, faculty_memebers & timings\n",
    "3- create constructor with required attribute that you think are required \n",
    "   for class but should be atleast 2\n",
    "4- create a method that ask salyani administration to dynamically update the courses_launch,\n",
    "   faculty_memebers & timings for latest batch.\n",
    "5- class should have method that can print the lastest course launch with their faculty & timings\n",
    "6- create a method that calculate the budget for new addmission based on the \n",
    "   total_number of registration keeping in min that per student expense is 523.75"
   ]
  }
 ],
 "metadata": {
  "kernelspec": {
   "display_name": "Python 3 (ipykernel)",
   "language": "python",
   "name": "python3"
  },
  "language_info": {
   "codemirror_mode": {
    "name": "ipython",
    "version": 3
   },
   "file_extension": ".py",
   "mimetype": "text/x-python",
   "name": "python",
   "nbconvert_exporter": "python",
   "pygments_lexer": "ipython3",
   "version": "3.11.5"
  }
 },
 "nbformat": 4,
 "nbformat_minor": 5
}
